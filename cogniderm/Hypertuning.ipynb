{
 "cells": [
  {
   "cell_type": "code",
   "execution_count": 9,
   "id": "6b38db7d",
   "metadata": {},
   "outputs": [],
   "source": [
    "import os\n",
    "import numpy as np\n",
    "import pandas as pd\n",
    "import matplotlib.pyplot as plt\n",
    "import tensorflow as tf\n",
    "from sklearn.model_selection import train_test_split\n",
    "from tensorflow.keras.preprocessing.image import ImageDataGenerator\n",
    "from tensorflow.keras.applications.resnet import ResNet101\n",
    "from tensorflow.keras.models import Sequential\n",
    "from tensorflow.keras.layers import Dense, GlobalAveragePooling2D, Dropout\n",
    "from tensorflow.keras.optimizers import Adam\n",
    "from tensorflow.keras.callbacks import ReduceLROnPlateau\n"
   ]
  },
  {
   "cell_type": "code",
   "execution_count": 8,
   "id": "6ccf7ba2",
   "metadata": {},
   "outputs": [
    {
     "name": "stdout",
     "output_type": "stream",
     "text": [
      "Collecting keras-tuner\n",
      "  Downloading keras_tuner-1.4.7-py3-none-any.whl.metadata (5.4 kB)\n",
      "Requirement already satisfied: keras in c:\\users\\sharuk\\onedrive\\desktop\\example_project_1\\env\\lib\\site-packages (from keras-tuner) (3.4.1)\n",
      "Requirement already satisfied: packaging in c:\\users\\sharuk\\onedrive\\desktop\\example_project_1\\env\\lib\\site-packages (from keras-tuner) (23.1)\n",
      "Requirement already satisfied: requests in c:\\users\\sharuk\\onedrive\\desktop\\example_project_1\\env\\lib\\site-packages (from keras-tuner) (2.32.3)\n",
      "Collecting kt-legacy (from keras-tuner)\n",
      "  Downloading kt_legacy-1.0.5-py3-none-any.whl.metadata (221 bytes)\n",
      "Requirement already satisfied: absl-py in c:\\users\\sharuk\\onedrive\\desktop\\example_project_1\\env\\lib\\site-packages (from keras->keras-tuner) (2.1.0)\n",
      "Requirement already satisfied: numpy in c:\\users\\sharuk\\onedrive\\desktop\\example_project_1\\env\\lib\\site-packages (from keras->keras-tuner) (1.26.2)\n",
      "Requirement already satisfied: rich in c:\\users\\sharuk\\onedrive\\desktop\\example_project_1\\env\\lib\\site-packages (from keras->keras-tuner) (13.7.1)\n",
      "Requirement already satisfied: namex in c:\\users\\sharuk\\onedrive\\desktop\\example_project_1\\env\\lib\\site-packages (from keras->keras-tuner) (0.0.8)\n",
      "Requirement already satisfied: h5py in c:\\users\\sharuk\\onedrive\\desktop\\example_project_1\\env\\lib\\site-packages (from keras->keras-tuner) (3.11.0)\n",
      "Requirement already satisfied: optree in c:\\users\\sharuk\\onedrive\\desktop\\example_project_1\\env\\lib\\site-packages (from keras->keras-tuner) (0.12.1)\n",
      "Requirement already satisfied: ml-dtypes in c:\\users\\sharuk\\onedrive\\desktop\\example_project_1\\env\\lib\\site-packages (from keras->keras-tuner) (0.3.2)\n",
      "Requirement already satisfied: charset-normalizer<4,>=2 in c:\\users\\sharuk\\onedrive\\desktop\\example_project_1\\env\\lib\\site-packages (from requests->keras-tuner) (3.3.2)\n",
      "Requirement already satisfied: idna<4,>=2.5 in c:\\users\\sharuk\\onedrive\\desktop\\example_project_1\\env\\lib\\site-packages (from requests->keras-tuner) (3.7)\n",
      "Requirement already satisfied: urllib3<3,>=1.21.1 in c:\\users\\sharuk\\onedrive\\desktop\\example_project_1\\env\\lib\\site-packages (from requests->keras-tuner) (2.2.2)\n",
      "Requirement already satisfied: certifi>=2017.4.17 in c:\\users\\sharuk\\onedrive\\desktop\\example_project_1\\env\\lib\\site-packages (from requests->keras-tuner) (2024.7.4)\n",
      "Requirement already satisfied: typing-extensions>=4.5.0 in c:\\users\\sharuk\\onedrive\\desktop\\example_project_1\\env\\lib\\site-packages (from optree->keras->keras-tuner) (4.12.2)\n",
      "Requirement already satisfied: markdown-it-py>=2.2.0 in c:\\users\\sharuk\\onedrive\\desktop\\example_project_1\\env\\lib\\site-packages (from rich->keras->keras-tuner) (3.0.0)\n",
      "Requirement already satisfied: pygments<3.0.0,>=2.13.0 in c:\\users\\sharuk\\onedrive\\desktop\\example_project_1\\env\\lib\\site-packages (from rich->keras->keras-tuner) (2.18.0)\n",
      "Requirement already satisfied: mdurl~=0.1 in c:\\users\\sharuk\\onedrive\\desktop\\example_project_1\\env\\lib\\site-packages (from markdown-it-py>=2.2.0->rich->keras->keras-tuner) (0.1.2)\n",
      "Downloading keras_tuner-1.4.7-py3-none-any.whl (129 kB)\n",
      "   ---------------------------------------- 0.0/129.1 kB ? eta -:--:--\n",
      "   ---------------------------------------- 0.0/129.1 kB ? eta -:--:--\n",
      "   ------------ -------------------------- 41.0/129.1 kB 960.0 kB/s eta 0:00:01\n",
      "   ---------------------------------------- 129.1/129.1 kB 1.9 MB/s eta 0:00:00\n",
      "Downloading kt_legacy-1.0.5-py3-none-any.whl (9.6 kB)\n",
      "Installing collected packages: kt-legacy, keras-tuner\n",
      "Successfully installed keras-tuner-1.4.7 kt-legacy-1.0.5\n"
     ]
    }
   ],
   "source": [
    "!pip install keras-tuner\n"
   ]
  },
  {
   "cell_type": "code",
   "execution_count": 10,
   "id": "1e6c419c",
   "metadata": {},
   "outputs": [],
   "source": [
    "# Set the local paths for the datasets\n",
    "Eczema_dir = r'Skin_disease_data\\1. Eczema'\n",
    "Psoriasis_pictures_Lichen_Planus_and_related_diseases_dir = r'Skin_disease_data\\7. Psoriasis'\n"
   ]
  },
  {
   "cell_type": "code",
   "execution_count": 11,
   "id": "767b6ee1",
   "metadata": {},
   "outputs": [
    {
     "name": "stdout",
     "output_type": "stream",
     "text": [
      "                              filepaths  labels\n",
      "0   Skin_disease_data\\1. Eczema\\0_0.jpg  Eczema\n",
      "1   Skin_disease_data\\1. Eczema\\0_1.jpg  Eczema\n",
      "2  Skin_disease_data\\1. Eczema\\0_10.jpg  Eczema\n",
      "3  Skin_disease_data\\1. Eczema\\0_11.jpg  Eczema\n",
      "4  Skin_disease_data\\1. Eczema\\0_12.jpg  Eczema\n",
      "labels\n",
      "Psoriasis pictures Lichen Planus and related diseases    2055\n",
      "Eczema                                                   1677\n",
      "Name: count, dtype: int64\n"
     ]
    }
   ],
   "source": [
    "filepaths = []\n",
    "labels = []\n",
    "dict_list = [Eczema_dir, Psoriasis_pictures_Lichen_Planus_and_related_diseases_dir]\n",
    "class_labels = ['Eczema', 'Psoriasis pictures Lichen Planus and related diseases']\n",
    "\n",
    "for i, j in enumerate(dict_list):\n",
    "    flist = os.listdir(j)\n",
    "    for f in flist:\n",
    "        fpath = os.path.join(j, f)\n",
    "        filepaths.append(fpath)\n",
    "        labels.append(class_labels[i])\n",
    "\n",
    "Fseries = pd.Series(filepaths, name=\"filepaths\")\n",
    "Lseries = pd.Series(labels, name=\"labels\")\n",
    "skin_data = pd.concat([Fseries, Lseries], axis=1)\n",
    "skin_df = pd.DataFrame(skin_data)\n",
    "print(skin_df.head())\n",
    "print(skin_df[\"labels\"].value_counts())"
   ]
  },
  {
   "cell_type": "code",
   "execution_count": 12,
   "id": "47051a19",
   "metadata": {},
   "outputs": [
    {
     "name": "stderr",
     "output_type": "stream",
     "text": [
      "C:\\Users\\SHARUK\\AppData\\Local\\Temp\\ipykernel_19168\\3814032278.py:6: DeprecationWarning: `import kerastuner` is deprecated, please use `import keras_tuner`.\n",
      "  from kerastuner import HyperModel, RandomSearch\n"
     ]
    }
   ],
   "source": [
    "import tensorflow as tf\n",
    "from tensorflow.keras.applications import InceptionV3\n",
    "from tensorflow.keras.models import Sequential\n",
    "from tensorflow.keras.layers import Dense, GlobalAveragePooling2D, Dropout\n",
    "from tensorflow.keras.optimizers import Adam\n",
    "from kerastuner import HyperModel, RandomSearch\n",
    "\n",
    "def build_model(hp):\n",
    "    base_model = InceptionV3(weights='imagenet', include_top=False, input_shape=(224, 224, 3))\n",
    "    base_model.trainable = False  # Freeze the base model\n",
    "\n",
    "    model = Sequential()\n",
    "    model.add(base_model)\n",
    "    model.add(GlobalAveragePooling2D())\n",
    "\n",
    "    # Tune the number of units in the Dense layer\n",
    "    hp_units = hp.Int('units', min_value=128, max_value=1024, step=128)\n",
    "    model.add(Dense(units=hp_units, activation='relu'))\n",
    "    \n",
    "    # Tune the dropout rate\n",
    "    hp_dropout = hp.Float('dropout', min_value=0.0, max_value=0.5, step=0.1)\n",
    "    model.add(Dropout(rate=hp_dropout))\n",
    "    \n",
    "    model.add(Dense(2, activation='softmax'))\n",
    "\n",
    "    # Tune the learning rate for the optimizer\n",
    "    hp_learning_rate = hp.Float('learning_rate', min_value=1e-4, max_value=1e-2, sampling='LOG')\n",
    "    model.compile(optimizer=Adam(learning_rate=hp_learning_rate),\n",
    "                  loss='categorical_crossentropy',\n",
    "                  metrics=['accuracy'])\n",
    "\n",
    "    return model\n",
    "\n"
   ]
  },
  {
   "cell_type": "code",
   "execution_count": 13,
   "id": "01dcc0b6",
   "metadata": {},
   "outputs": [
    {
     "name": "stdout",
     "output_type": "stream",
     "text": [
      "Reloading Tuner from my_dir\\inception_tuning\\tuner0.json\n"
     ]
    }
   ],
   "source": [
    "tuner = RandomSearch(\n",
    "    build_model,\n",
    "    objective='val_accuracy',\n",
    "    max_trials=10,\n",
    "    executions_per_trial=3,\n",
    "    directory='my_dir',\n",
    "    project_name='inception_tuning'\n",
    ")\n"
   ]
  },
  {
   "cell_type": "code",
   "execution_count": 15,
   "id": "d4bc31b5",
   "metadata": {},
   "outputs": [
    {
     "name": "stdout",
     "output_type": "stream",
     "text": [
      "Found 2388 validated image filenames belonging to 2 classes.\n",
      "Found 597 validated image filenames belonging to 2 classes.\n"
     ]
    }
   ],
   "source": [
    "# Assume train, val, and test ImageDataGenerators are defined as in previous examples\n",
    "train_images, test_images = train_test_split(skin_df, test_size=0.2, random_state=42)\n",
    "train_set, val_set = train_test_split(train_images, test_size=0.2, random_state=42)\n",
    "\n",
    "train_datagen = ImageDataGenerator(\n",
    "    preprocessing_function=tf.keras.applications.inception_v3.preprocess_input,\n",
    "    rotation_range=40,\n",
    "    width_shift_range=0.2,\n",
    "    height_shift_range=0.2,\n",
    "    shear_range=0.2,\n",
    "    horizontal_flip=True,\n",
    "    fill_mode='nearest'\n",
    ")\n",
    "\n",
    "image_gen = ImageDataGenerator(preprocessing_function=tf.keras.applications.inception_v3.preprocess_input)\n",
    "\n",
    "train = train_datagen.flow_from_dataframe(\n",
    "    dataframe=train_set, x_col=\"filepaths\", y_col=\"labels\",\n",
    "    target_size=(224, 224),\n",
    "    color_mode='rgb',\n",
    "    class_mode=\"categorical\",\n",
    "    batch_size=32,\n",
    "    shuffle=True\n",
    ")\n",
    "\n",
    "val = image_gen.flow_from_dataframe(\n",
    "    dataframe=val_set, x_col=\"filepaths\", y_col=\"labels\",\n",
    "    target_size=(224, 224),\n",
    "    color_mode='rgb',\n",
    "    class_mode=\"categorical\",\n",
    "    batch_size=32,\n",
    "    shuffle=False\n",
    ")\n",
    "\n",
    "\n",
    "\n",
    "\n"
   ]
  },
  {
   "cell_type": "code",
   "execution_count": 16,
   "id": "260fd783",
   "metadata": {},
   "outputs": [
    {
     "name": "stdout",
     "output_type": "stream",
     "text": [
      "Trial 10 Complete [01h 15m 41s]\n",
      "val_accuracy: 0.7191513180732727\n",
      "\n",
      "Best val_accuracy So Far: 0.7191513180732727\n",
      "Total elapsed time: 1d 03h 33m 38s\n",
      "\n",
      "The optimal number of units in the dense layer is 640 and\n",
      "the optimal dropout rate is 0.2.\n",
      "The optimal learning rate for the optimizer is 0.0002479277711879142.\n",
      "\n"
     ]
    }
   ],
   "source": [
    "tuner.search(train, epochs=10, validation_data=val)\n",
    "\n",
    "# Get the optimal hyperparameters\n",
    "best_hps = tuner.get_best_hyperparameters(num_trials=1)[0]\n",
    "print(f\"\"\"\n",
    "The optimal number of units in the dense layer is {best_hps.get('units')} and\n",
    "the optimal dropout rate is {best_hps.get('dropout')}.\n",
    "The optimal learning rate for the optimizer is {best_hps.get('learning_rate')}.\n",
    "\"\"\")\n"
   ]
  },
  {
   "cell_type": "code",
   "execution_count": 20,
   "id": "292f2590",
   "metadata": {},
   "outputs": [
    {
     "name": "stdout",
     "output_type": "stream",
     "text": [
      "Found 747 validated image filenames belonging to 2 classes.\n"
     ]
    }
   ],
   "source": [
    "test = image_gen.flow_from_dataframe(\n",
    "    dataframe=test_images, x_col=\"filepaths\", y_col=\"labels\",\n",
    "    target_size=(224, 224),\n",
    "    color_mode='rgb',\n",
    "    class_mode=\"categorical\",\n",
    "    batch_size=32,\n",
    "    shuffle=False\n",
    ")"
   ]
  },
  {
   "cell_type": "code",
   "execution_count": null,
   "id": "a58a9e3f",
   "metadata": {},
   "outputs": [],
   "source": []
  }
 ],
 "metadata": {
  "kernelspec": {
   "display_name": "Python 3 (ipykernel)",
   "language": "python",
   "name": "python3"
  },
  "language_info": {
   "codemirror_mode": {
    "name": "ipython",
    "version": 3
   },
   "file_extension": ".py",
   "mimetype": "text/x-python",
   "name": "python",
   "nbconvert_exporter": "python",
   "pygments_lexer": "ipython3",
   "version": "3.10.13"
  }
 },
 "nbformat": 4,
 "nbformat_minor": 5
}
