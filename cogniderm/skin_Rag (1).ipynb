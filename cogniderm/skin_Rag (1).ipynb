{
  "nbformat": 4,
  "nbformat_minor": 0,
  "metadata": {
    "colab": {
      "provenance": []
    },
    "kernelspec": {
      "name": "python3",
      "display_name": "Python 3"
    },
    "language_info": {
      "name": "python"
    },
    "widgets": {
      "application/vnd.jupyter.widget-state+json": {
        "8c56f556d230469f80ea4c9827ab71ec": {
          "model_module": "@jupyter-widgets/controls",
          "model_name": "HBoxModel",
          "model_module_version": "1.5.0",
          "state": {
            "_dom_classes": [],
            "_model_module": "@jupyter-widgets/controls",
            "_model_module_version": "1.5.0",
            "_model_name": "HBoxModel",
            "_view_count": null,
            "_view_module": "@jupyter-widgets/controls",
            "_view_module_version": "1.5.0",
            "_view_name": "HBoxView",
            "box_style": "",
            "children": [
              "IPY_MODEL_ee379497154346c796beafdbe416a87e",
              "IPY_MODEL_1d5d6fb2a834443185b41abb0dd1ab3d",
              "IPY_MODEL_b45ef32423ed439283dae2d535f90d4a"
            ],
            "layout": "IPY_MODEL_b2264913a0e9497dba917a4b6e41e020"
          }
        },
        "ee379497154346c796beafdbe416a87e": {
          "model_module": "@jupyter-widgets/controls",
          "model_name": "HTMLModel",
          "model_module_version": "1.5.0",
          "state": {
            "_dom_classes": [],
            "_model_module": "@jupyter-widgets/controls",
            "_model_module_version": "1.5.0",
            "_model_name": "HTMLModel",
            "_view_count": null,
            "_view_module": "@jupyter-widgets/controls",
            "_view_module_version": "1.5.0",
            "_view_name": "HTMLView",
            "description": "",
            "description_tooltip": null,
            "layout": "IPY_MODEL_b853110eef054d61ad7198b8835e70bf",
            "placeholder": "​",
            "style": "IPY_MODEL_9984091078004eee8ffeff4ac137f92c",
            "value": "config.json: 100%"
          }
        },
        "1d5d6fb2a834443185b41abb0dd1ab3d": {
          "model_module": "@jupyter-widgets/controls",
          "model_name": "FloatProgressModel",
          "model_module_version": "1.5.0",
          "state": {
            "_dom_classes": [],
            "_model_module": "@jupyter-widgets/controls",
            "_model_module_version": "1.5.0",
            "_model_name": "FloatProgressModel",
            "_view_count": null,
            "_view_module": "@jupyter-widgets/controls",
            "_view_module_version": "1.5.0",
            "_view_name": "ProgressView",
            "bar_style": "success",
            "description": "",
            "description_tooltip": null,
            "layout": "IPY_MODEL_b5aa55b6aef34d548290198f65a878b0",
            "max": 1469,
            "min": 0,
            "orientation": "horizontal",
            "style": "IPY_MODEL_724804db66594ac383eedd5d6aed64f9",
            "value": 1469
          }
        },
        "b45ef32423ed439283dae2d535f90d4a": {
          "model_module": "@jupyter-widgets/controls",
          "model_name": "HTMLModel",
          "model_module_version": "1.5.0",
          "state": {
            "_dom_classes": [],
            "_model_module": "@jupyter-widgets/controls",
            "_model_module_version": "1.5.0",
            "_model_name": "HTMLModel",
            "_view_count": null,
            "_view_module": "@jupyter-widgets/controls",
            "_view_module_version": "1.5.0",
            "_view_name": "HTMLView",
            "description": "",
            "description_tooltip": null,
            "layout": "IPY_MODEL_482d6449c9c04e4cadf52cf95f48e2bc",
            "placeholder": "​",
            "style": "IPY_MODEL_eaa836d08d5e43bab8551b915572bc26",
            "value": " 1.47k/1.47k [00:00&lt;00:00, 88.8kB/s]"
          }
        },
        "b2264913a0e9497dba917a4b6e41e020": {
          "model_module": "@jupyter-widgets/base",
          "model_name": "LayoutModel",
          "model_module_version": "1.2.0",
          "state": {
            "_model_module": "@jupyter-widgets/base",
            "_model_module_version": "1.2.0",
            "_model_name": "LayoutModel",
            "_view_count": null,
            "_view_module": "@jupyter-widgets/base",
            "_view_module_version": "1.2.0",
            "_view_name": "LayoutView",
            "align_content": null,
            "align_items": null,
            "align_self": null,
            "border": null,
            "bottom": null,
            "display": null,
            "flex": null,
            "flex_flow": null,
            "grid_area": null,
            "grid_auto_columns": null,
            "grid_auto_flow": null,
            "grid_auto_rows": null,
            "grid_column": null,
            "grid_gap": null,
            "grid_row": null,
            "grid_template_areas": null,
            "grid_template_columns": null,
            "grid_template_rows": null,
            "height": null,
            "justify_content": null,
            "justify_items": null,
            "left": null,
            "margin": null,
            "max_height": null,
            "max_width": null,
            "min_height": null,
            "min_width": null,
            "object_fit": null,
            "object_position": null,
            "order": null,
            "overflow": null,
            "overflow_x": null,
            "overflow_y": null,
            "padding": null,
            "right": null,
            "top": null,
            "visibility": null,
            "width": null
          }
        },
        "b853110eef054d61ad7198b8835e70bf": {
          "model_module": "@jupyter-widgets/base",
          "model_name": "LayoutModel",
          "model_module_version": "1.2.0",
          "state": {
            "_model_module": "@jupyter-widgets/base",
            "_model_module_version": "1.2.0",
            "_model_name": "LayoutModel",
            "_view_count": null,
            "_view_module": "@jupyter-widgets/base",
            "_view_module_version": "1.2.0",
            "_view_name": "LayoutView",
            "align_content": null,
            "align_items": null,
            "align_self": null,
            "border": null,
            "bottom": null,
            "display": null,
            "flex": null,
            "flex_flow": null,
            "grid_area": null,
            "grid_auto_columns": null,
            "grid_auto_flow": null,
            "grid_auto_rows": null,
            "grid_column": null,
            "grid_gap": null,
            "grid_row": null,
            "grid_template_areas": null,
            "grid_template_columns": null,
            "grid_template_rows": null,
            "height": null,
            "justify_content": null,
            "justify_items": null,
            "left": null,
            "margin": null,
            "max_height": null,
            "max_width": null,
            "min_height": null,
            "min_width": null,
            "object_fit": null,
            "object_position": null,
            "order": null,
            "overflow": null,
            "overflow_x": null,
            "overflow_y": null,
            "padding": null,
            "right": null,
            "top": null,
            "visibility": null,
            "width": null
          }
        },
        "9984091078004eee8ffeff4ac137f92c": {
          "model_module": "@jupyter-widgets/controls",
          "model_name": "DescriptionStyleModel",
          "model_module_version": "1.5.0",
          "state": {
            "_model_module": "@jupyter-widgets/controls",
            "_model_module_version": "1.5.0",
            "_model_name": "DescriptionStyleModel",
            "_view_count": null,
            "_view_module": "@jupyter-widgets/base",
            "_view_module_version": "1.2.0",
            "_view_name": "StyleView",
            "description_width": ""
          }
        },
        "b5aa55b6aef34d548290198f65a878b0": {
          "model_module": "@jupyter-widgets/base",
          "model_name": "LayoutModel",
          "model_module_version": "1.2.0",
          "state": {
            "_model_module": "@jupyter-widgets/base",
            "_model_module_version": "1.2.0",
            "_model_name": "LayoutModel",
            "_view_count": null,
            "_view_module": "@jupyter-widgets/base",
            "_view_module_version": "1.2.0",
            "_view_name": "LayoutView",
            "align_content": null,
            "align_items": null,
            "align_self": null,
            "border": null,
            "bottom": null,
            "display": null,
            "flex": null,
            "flex_flow": null,
            "grid_area": null,
            "grid_auto_columns": null,
            "grid_auto_flow": null,
            "grid_auto_rows": null,
            "grid_column": null,
            "grid_gap": null,
            "grid_row": null,
            "grid_template_areas": null,
            "grid_template_columns": null,
            "grid_template_rows": null,
            "height": null,
            "justify_content": null,
            "justify_items": null,
            "left": null,
            "margin": null,
            "max_height": null,
            "max_width": null,
            "min_height": null,
            "min_width": null,
            "object_fit": null,
            "object_position": null,
            "order": null,
            "overflow": null,
            "overflow_x": null,
            "overflow_y": null,
            "padding": null,
            "right": null,
            "top": null,
            "visibility": null,
            "width": null
          }
        },
        "724804db66594ac383eedd5d6aed64f9": {
          "model_module": "@jupyter-widgets/controls",
          "model_name": "ProgressStyleModel",
          "model_module_version": "1.5.0",
          "state": {
            "_model_module": "@jupyter-widgets/controls",
            "_model_module_version": "1.5.0",
            "_model_name": "ProgressStyleModel",
            "_view_count": null,
            "_view_module": "@jupyter-widgets/base",
            "_view_module_version": "1.2.0",
            "_view_name": "StyleView",
            "bar_color": null,
            "description_width": ""
          }
        },
        "482d6449c9c04e4cadf52cf95f48e2bc": {
          "model_module": "@jupyter-widgets/base",
          "model_name": "LayoutModel",
          "model_module_version": "1.2.0",
          "state": {
            "_model_module": "@jupyter-widgets/base",
            "_model_module_version": "1.2.0",
            "_model_name": "LayoutModel",
            "_view_count": null,
            "_view_module": "@jupyter-widgets/base",
            "_view_module_version": "1.2.0",
            "_view_name": "LayoutView",
            "align_content": null,
            "align_items": null,
            "align_self": null,
            "border": null,
            "bottom": null,
            "display": null,
            "flex": null,
            "flex_flow": null,
            "grid_area": null,
            "grid_auto_columns": null,
            "grid_auto_flow": null,
            "grid_auto_rows": null,
            "grid_column": null,
            "grid_gap": null,
            "grid_row": null,
            "grid_template_areas": null,
            "grid_template_columns": null,
            "grid_template_rows": null,
            "height": null,
            "justify_content": null,
            "justify_items": null,
            "left": null,
            "margin": null,
            "max_height": null,
            "max_width": null,
            "min_height": null,
            "min_width": null,
            "object_fit": null,
            "object_position": null,
            "order": null,
            "overflow": null,
            "overflow_x": null,
            "overflow_y": null,
            "padding": null,
            "right": null,
            "top": null,
            "visibility": null,
            "width": null
          }
        },
        "eaa836d08d5e43bab8551b915572bc26": {
          "model_module": "@jupyter-widgets/controls",
          "model_name": "DescriptionStyleModel",
          "model_module_version": "1.5.0",
          "state": {
            "_model_module": "@jupyter-widgets/controls",
            "_model_module_version": "1.5.0",
            "_model_name": "DescriptionStyleModel",
            "_view_count": null,
            "_view_module": "@jupyter-widgets/base",
            "_view_module_version": "1.2.0",
            "_view_name": "StyleView",
            "description_width": ""
          }
        },
        "73d499284f9449e4ba7a8cd076a8de6d": {
          "model_module": "@jupyter-widgets/controls",
          "model_name": "HBoxModel",
          "model_module_version": "1.5.0",
          "state": {
            "_dom_classes": [],
            "_model_module": "@jupyter-widgets/controls",
            "_model_module_version": "1.5.0",
            "_model_name": "HBoxModel",
            "_view_count": null,
            "_view_module": "@jupyter-widgets/controls",
            "_view_module_version": "1.5.0",
            "_view_name": "HBoxView",
            "box_style": "",
            "children": [
              "IPY_MODEL_9fb0f69d012a43559389b4d88e702fc3",
              "IPY_MODEL_29ee0a91a5d14d8b86579326087a7af9",
              "IPY_MODEL_eb28e39451ba47d39283fa06d1807d7c"
            ],
            "layout": "IPY_MODEL_4c81e26f063b40238e077f8aec8f7ebe"
          }
        },
        "9fb0f69d012a43559389b4d88e702fc3": {
          "model_module": "@jupyter-widgets/controls",
          "model_name": "HTMLModel",
          "model_module_version": "1.5.0",
          "state": {
            "_dom_classes": [],
            "_model_module": "@jupyter-widgets/controls",
            "_model_module_version": "1.5.0",
            "_model_name": "HTMLModel",
            "_view_count": null,
            "_view_module": "@jupyter-widgets/controls",
            "_view_module_version": "1.5.0",
            "_view_name": "HTMLView",
            "description": "",
            "description_tooltip": null,
            "layout": "IPY_MODEL_873bdcbbbadf45ae996f95eb1381bec2",
            "placeholder": "​",
            "style": "IPY_MODEL_1b1300dee7c8434a976f080cd36ce552",
            "value": "model.safetensors: 100%"
          }
        },
        "29ee0a91a5d14d8b86579326087a7af9": {
          "model_module": "@jupyter-widgets/controls",
          "model_name": "FloatProgressModel",
          "model_module_version": "1.5.0",
          "state": {
            "_dom_classes": [],
            "_model_module": "@jupyter-widgets/controls",
            "_model_module_version": "1.5.0",
            "_model_name": "FloatProgressModel",
            "_view_count": null,
            "_view_module": "@jupyter-widgets/controls",
            "_view_module_version": "1.5.0",
            "_view_name": "ProgressView",
            "bar_style": "success",
            "description": "",
            "description_tooltip": null,
            "layout": "IPY_MODEL_53f4460425924230b9e2bd61544aff31",
            "max": 115434268,
            "min": 0,
            "orientation": "horizontal",
            "style": "IPY_MODEL_e5d4d40e532646df9b592d0e5c77ca99",
            "value": 115434268
          }
        },
        "eb28e39451ba47d39283fa06d1807d7c": {
          "model_module": "@jupyter-widgets/controls",
          "model_name": "HTMLModel",
          "model_module_version": "1.5.0",
          "state": {
            "_dom_classes": [],
            "_model_module": "@jupyter-widgets/controls",
            "_model_module_version": "1.5.0",
            "_model_name": "HTMLModel",
            "_view_count": null,
            "_view_module": "@jupyter-widgets/controls",
            "_view_module_version": "1.5.0",
            "_view_name": "HTMLView",
            "description": "",
            "description_tooltip": null,
            "layout": "IPY_MODEL_be1e94fe56c2484aa9cbc1ace5faaa9e",
            "placeholder": "​",
            "style": "IPY_MODEL_170a107de372448387392b8c18eba037",
            "value": " 115M/115M [00:00&lt;00:00, 176MB/s]"
          }
        },
        "4c81e26f063b40238e077f8aec8f7ebe": {
          "model_module": "@jupyter-widgets/base",
          "model_name": "LayoutModel",
          "model_module_version": "1.2.0",
          "state": {
            "_model_module": "@jupyter-widgets/base",
            "_model_module_version": "1.2.0",
            "_model_name": "LayoutModel",
            "_view_count": null,
            "_view_module": "@jupyter-widgets/base",
            "_view_module_version": "1.2.0",
            "_view_name": "LayoutView",
            "align_content": null,
            "align_items": null,
            "align_self": null,
            "border": null,
            "bottom": null,
            "display": null,
            "flex": null,
            "flex_flow": null,
            "grid_area": null,
            "grid_auto_columns": null,
            "grid_auto_flow": null,
            "grid_auto_rows": null,
            "grid_column": null,
            "grid_gap": null,
            "grid_row": null,
            "grid_template_areas": null,
            "grid_template_columns": null,
            "grid_template_rows": null,
            "height": null,
            "justify_content": null,
            "justify_items": null,
            "left": null,
            "margin": null,
            "max_height": null,
            "max_width": null,
            "min_height": null,
            "min_width": null,
            "object_fit": null,
            "object_position": null,
            "order": null,
            "overflow": null,
            "overflow_x": null,
            "overflow_y": null,
            "padding": null,
            "right": null,
            "top": null,
            "visibility": null,
            "width": null
          }
        },
        "873bdcbbbadf45ae996f95eb1381bec2": {
          "model_module": "@jupyter-widgets/base",
          "model_name": "LayoutModel",
          "model_module_version": "1.2.0",
          "state": {
            "_model_module": "@jupyter-widgets/base",
            "_model_module_version": "1.2.0",
            "_model_name": "LayoutModel",
            "_view_count": null,
            "_view_module": "@jupyter-widgets/base",
            "_view_module_version": "1.2.0",
            "_view_name": "LayoutView",
            "align_content": null,
            "align_items": null,
            "align_self": null,
            "border": null,
            "bottom": null,
            "display": null,
            "flex": null,
            "flex_flow": null,
            "grid_area": null,
            "grid_auto_columns": null,
            "grid_auto_flow": null,
            "grid_auto_rows": null,
            "grid_column": null,
            "grid_gap": null,
            "grid_row": null,
            "grid_template_areas": null,
            "grid_template_columns": null,
            "grid_template_rows": null,
            "height": null,
            "justify_content": null,
            "justify_items": null,
            "left": null,
            "margin": null,
            "max_height": null,
            "max_width": null,
            "min_height": null,
            "min_width": null,
            "object_fit": null,
            "object_position": null,
            "order": null,
            "overflow": null,
            "overflow_x": null,
            "overflow_y": null,
            "padding": null,
            "right": null,
            "top": null,
            "visibility": null,
            "width": null
          }
        },
        "1b1300dee7c8434a976f080cd36ce552": {
          "model_module": "@jupyter-widgets/controls",
          "model_name": "DescriptionStyleModel",
          "model_module_version": "1.5.0",
          "state": {
            "_model_module": "@jupyter-widgets/controls",
            "_model_module_version": "1.5.0",
            "_model_name": "DescriptionStyleModel",
            "_view_count": null,
            "_view_module": "@jupyter-widgets/base",
            "_view_module_version": "1.2.0",
            "_view_name": "StyleView",
            "description_width": ""
          }
        },
        "53f4460425924230b9e2bd61544aff31": {
          "model_module": "@jupyter-widgets/base",
          "model_name": "LayoutModel",
          "model_module_version": "1.2.0",
          "state": {
            "_model_module": "@jupyter-widgets/base",
            "_model_module_version": "1.2.0",
            "_model_name": "LayoutModel",
            "_view_count": null,
            "_view_module": "@jupyter-widgets/base",
            "_view_module_version": "1.2.0",
            "_view_name": "LayoutView",
            "align_content": null,
            "align_items": null,
            "align_self": null,
            "border": null,
            "bottom": null,
            "display": null,
            "flex": null,
            "flex_flow": null,
            "grid_area": null,
            "grid_auto_columns": null,
            "grid_auto_flow": null,
            "grid_auto_rows": null,
            "grid_column": null,
            "grid_gap": null,
            "grid_row": null,
            "grid_template_areas": null,
            "grid_template_columns": null,
            "grid_template_rows": null,
            "height": null,
            "justify_content": null,
            "justify_items": null,
            "left": null,
            "margin": null,
            "max_height": null,
            "max_width": null,
            "min_height": null,
            "min_width": null,
            "object_fit": null,
            "object_position": null,
            "order": null,
            "overflow": null,
            "overflow_x": null,
            "overflow_y": null,
            "padding": null,
            "right": null,
            "top": null,
            "visibility": null,
            "width": null
          }
        },
        "e5d4d40e532646df9b592d0e5c77ca99": {
          "model_module": "@jupyter-widgets/controls",
          "model_name": "ProgressStyleModel",
          "model_module_version": "1.5.0",
          "state": {
            "_model_module": "@jupyter-widgets/controls",
            "_model_module_version": "1.5.0",
            "_model_name": "ProgressStyleModel",
            "_view_count": null,
            "_view_module": "@jupyter-widgets/base",
            "_view_module_version": "1.2.0",
            "_view_name": "StyleView",
            "bar_color": null,
            "description_width": ""
          }
        },
        "be1e94fe56c2484aa9cbc1ace5faaa9e": {
          "model_module": "@jupyter-widgets/base",
          "model_name": "LayoutModel",
          "model_module_version": "1.2.0",
          "state": {
            "_model_module": "@jupyter-widgets/base",
            "_model_module_version": "1.2.0",
            "_model_name": "LayoutModel",
            "_view_count": null,
            "_view_module": "@jupyter-widgets/base",
            "_view_module_version": "1.2.0",
            "_view_name": "LayoutView",
            "align_content": null,
            "align_items": null,
            "align_self": null,
            "border": null,
            "bottom": null,
            "display": null,
            "flex": null,
            "flex_flow": null,
            "grid_area": null,
            "grid_auto_columns": null,
            "grid_auto_flow": null,
            "grid_auto_rows": null,
            "grid_column": null,
            "grid_gap": null,
            "grid_row": null,
            "grid_template_areas": null,
            "grid_template_columns": null,
            "grid_template_rows": null,
            "height": null,
            "justify_content": null,
            "justify_items": null,
            "left": null,
            "margin": null,
            "max_height": null,
            "max_width": null,
            "min_height": null,
            "min_width": null,
            "object_fit": null,
            "object_position": null,
            "order": null,
            "overflow": null,
            "overflow_x": null,
            "overflow_y": null,
            "padding": null,
            "right": null,
            "top": null,
            "visibility": null,
            "width": null
          }
        },
        "170a107de372448387392b8c18eba037": {
          "model_module": "@jupyter-widgets/controls",
          "model_name": "DescriptionStyleModel",
          "model_module_version": "1.5.0",
          "state": {
            "_model_module": "@jupyter-widgets/controls",
            "_model_module_version": "1.5.0",
            "_model_name": "DescriptionStyleModel",
            "_view_count": null,
            "_view_module": "@jupyter-widgets/base",
            "_view_module_version": "1.2.0",
            "_view_name": "StyleView",
            "description_width": ""
          }
        },
        "e56548f35cb6488b8f9530c89835132a": {
          "model_module": "@jupyter-widgets/controls",
          "model_name": "HBoxModel",
          "model_module_version": "1.5.0",
          "state": {
            "_dom_classes": [],
            "_model_module": "@jupyter-widgets/controls",
            "_model_module_version": "1.5.0",
            "_model_name": "HBoxModel",
            "_view_count": null,
            "_view_module": "@jupyter-widgets/controls",
            "_view_module_version": "1.5.0",
            "_view_name": "HBoxView",
            "box_style": "",
            "children": [
              "IPY_MODEL_f962d6bf2d22487bb8b6aecec8d38a25",
              "IPY_MODEL_8b8b97d63f9e4cf38e0308c47306e1a9",
              "IPY_MODEL_ed03a8e9e8f04e3086d7a40ece95bc0a"
            ],
            "layout": "IPY_MODEL_1019f5db96d64a7bbf70464e2c6d6e80"
          }
        },
        "f962d6bf2d22487bb8b6aecec8d38a25": {
          "model_module": "@jupyter-widgets/controls",
          "model_name": "HTMLModel",
          "model_module_version": "1.5.0",
          "state": {
            "_dom_classes": [],
            "_model_module": "@jupyter-widgets/controls",
            "_model_module_version": "1.5.0",
            "_model_name": "HTMLModel",
            "_view_count": null,
            "_view_module": "@jupyter-widgets/controls",
            "_view_module_version": "1.5.0",
            "_view_name": "HTMLView",
            "description": "",
            "description_tooltip": null,
            "layout": "IPY_MODEL_9e962a2850724ebcb5e343a58006ee5e",
            "placeholder": "​",
            "style": "IPY_MODEL_09b19480406540e49bfab881c0106ef9",
            "value": "model.safetensors: 100%"
          }
        },
        "8b8b97d63f9e4cf38e0308c47306e1a9": {
          "model_module": "@jupyter-widgets/controls",
          "model_name": "FloatProgressModel",
          "model_module_version": "1.5.0",
          "state": {
            "_dom_classes": [],
            "_model_module": "@jupyter-widgets/controls",
            "_model_module_version": "1.5.0",
            "_model_name": "FloatProgressModel",
            "_view_count": null,
            "_view_module": "@jupyter-widgets/controls",
            "_view_module_version": "1.5.0",
            "_view_name": "ProgressView",
            "bar_style": "success",
            "description": "",
            "description_tooltip": null,
            "layout": "IPY_MODEL_a4407990fb1a4a168949932899136500",
            "max": 46807446,
            "min": 0,
            "orientation": "horizontal",
            "style": "IPY_MODEL_0152640fa7d944399aace4b4bdded7a9",
            "value": 46807446
          }
        },
        "ed03a8e9e8f04e3086d7a40ece95bc0a": {
          "model_module": "@jupyter-widgets/controls",
          "model_name": "HTMLModel",
          "model_module_version": "1.5.0",
          "state": {
            "_dom_classes": [],
            "_model_module": "@jupyter-widgets/controls",
            "_model_module_version": "1.5.0",
            "_model_name": "HTMLModel",
            "_view_count": null,
            "_view_module": "@jupyter-widgets/controls",
            "_view_module_version": "1.5.0",
            "_view_name": "HTMLView",
            "description": "",
            "description_tooltip": null,
            "layout": "IPY_MODEL_2d7c252df336473686eacffe1b5d91be",
            "placeholder": "​",
            "style": "IPY_MODEL_99885810aa1a46d9b77f864a7f7d6200",
            "value": " 46.8M/46.8M [00:00&lt;00:00, 158MB/s]"
          }
        },
        "1019f5db96d64a7bbf70464e2c6d6e80": {
          "model_module": "@jupyter-widgets/base",
          "model_name": "LayoutModel",
          "model_module_version": "1.2.0",
          "state": {
            "_model_module": "@jupyter-widgets/base",
            "_model_module_version": "1.2.0",
            "_model_name": "LayoutModel",
            "_view_count": null,
            "_view_module": "@jupyter-widgets/base",
            "_view_module_version": "1.2.0",
            "_view_name": "LayoutView",
            "align_content": null,
            "align_items": null,
            "align_self": null,
            "border": null,
            "bottom": null,
            "display": null,
            "flex": null,
            "flex_flow": null,
            "grid_area": null,
            "grid_auto_columns": null,
            "grid_auto_flow": null,
            "grid_auto_rows": null,
            "grid_column": null,
            "grid_gap": null,
            "grid_row": null,
            "grid_template_areas": null,
            "grid_template_columns": null,
            "grid_template_rows": null,
            "height": null,
            "justify_content": null,
            "justify_items": null,
            "left": null,
            "margin": null,
            "max_height": null,
            "max_width": null,
            "min_height": null,
            "min_width": null,
            "object_fit": null,
            "object_position": null,
            "order": null,
            "overflow": null,
            "overflow_x": null,
            "overflow_y": null,
            "padding": null,
            "right": null,
            "top": null,
            "visibility": null,
            "width": null
          }
        },
        "9e962a2850724ebcb5e343a58006ee5e": {
          "model_module": "@jupyter-widgets/base",
          "model_name": "LayoutModel",
          "model_module_version": "1.2.0",
          "state": {
            "_model_module": "@jupyter-widgets/base",
            "_model_module_version": "1.2.0",
            "_model_name": "LayoutModel",
            "_view_count": null,
            "_view_module": "@jupyter-widgets/base",
            "_view_module_version": "1.2.0",
            "_view_name": "LayoutView",
            "align_content": null,
            "align_items": null,
            "align_self": null,
            "border": null,
            "bottom": null,
            "display": null,
            "flex": null,
            "flex_flow": null,
            "grid_area": null,
            "grid_auto_columns": null,
            "grid_auto_flow": null,
            "grid_auto_rows": null,
            "grid_column": null,
            "grid_gap": null,
            "grid_row": null,
            "grid_template_areas": null,
            "grid_template_columns": null,
            "grid_template_rows": null,
            "height": null,
            "justify_content": null,
            "justify_items": null,
            "left": null,
            "margin": null,
            "max_height": null,
            "max_width": null,
            "min_height": null,
            "min_width": null,
            "object_fit": null,
            "object_position": null,
            "order": null,
            "overflow": null,
            "overflow_x": null,
            "overflow_y": null,
            "padding": null,
            "right": null,
            "top": null,
            "visibility": null,
            "width": null
          }
        },
        "09b19480406540e49bfab881c0106ef9": {
          "model_module": "@jupyter-widgets/controls",
          "model_name": "DescriptionStyleModel",
          "model_module_version": "1.5.0",
          "state": {
            "_model_module": "@jupyter-widgets/controls",
            "_model_module_version": "1.5.0",
            "_model_name": "DescriptionStyleModel",
            "_view_count": null,
            "_view_module": "@jupyter-widgets/base",
            "_view_module_version": "1.2.0",
            "_view_name": "StyleView",
            "description_width": ""
          }
        },
        "a4407990fb1a4a168949932899136500": {
          "model_module": "@jupyter-widgets/base",
          "model_name": "LayoutModel",
          "model_module_version": "1.2.0",
          "state": {
            "_model_module": "@jupyter-widgets/base",
            "_model_module_version": "1.2.0",
            "_model_name": "LayoutModel",
            "_view_count": null,
            "_view_module": "@jupyter-widgets/base",
            "_view_module_version": "1.2.0",
            "_view_name": "LayoutView",
            "align_content": null,
            "align_items": null,
            "align_self": null,
            "border": null,
            "bottom": null,
            "display": null,
            "flex": null,
            "flex_flow": null,
            "grid_area": null,
            "grid_auto_columns": null,
            "grid_auto_flow": null,
            "grid_auto_rows": null,
            "grid_column": null,
            "grid_gap": null,
            "grid_row": null,
            "grid_template_areas": null,
            "grid_template_columns": null,
            "grid_template_rows": null,
            "height": null,
            "justify_content": null,
            "justify_items": null,
            "left": null,
            "margin": null,
            "max_height": null,
            "max_width": null,
            "min_height": null,
            "min_width": null,
            "object_fit": null,
            "object_position": null,
            "order": null,
            "overflow": null,
            "overflow_x": null,
            "overflow_y": null,
            "padding": null,
            "right": null,
            "top": null,
            "visibility": null,
            "width": null
          }
        },
        "0152640fa7d944399aace4b4bdded7a9": {
          "model_module": "@jupyter-widgets/controls",
          "model_name": "ProgressStyleModel",
          "model_module_version": "1.5.0",
          "state": {
            "_model_module": "@jupyter-widgets/controls",
            "_model_module_version": "1.5.0",
            "_model_name": "ProgressStyleModel",
            "_view_count": null,
            "_view_module": "@jupyter-widgets/base",
            "_view_module_version": "1.2.0",
            "_view_name": "StyleView",
            "bar_color": null,
            "description_width": ""
          }
        },
        "2d7c252df336473686eacffe1b5d91be": {
          "model_module": "@jupyter-widgets/base",
          "model_name": "LayoutModel",
          "model_module_version": "1.2.0",
          "state": {
            "_model_module": "@jupyter-widgets/base",
            "_model_module_version": "1.2.0",
            "_model_name": "LayoutModel",
            "_view_count": null,
            "_view_module": "@jupyter-widgets/base",
            "_view_module_version": "1.2.0",
            "_view_name": "LayoutView",
            "align_content": null,
            "align_items": null,
            "align_self": null,
            "border": null,
            "bottom": null,
            "display": null,
            "flex": null,
            "flex_flow": null,
            "grid_area": null,
            "grid_auto_columns": null,
            "grid_auto_flow": null,
            "grid_auto_rows": null,
            "grid_column": null,
            "grid_gap": null,
            "grid_row": null,
            "grid_template_areas": null,
            "grid_template_columns": null,
            "grid_template_rows": null,
            "height": null,
            "justify_content": null,
            "justify_items": null,
            "left": null,
            "margin": null,
            "max_height": null,
            "max_width": null,
            "min_height": null,
            "min_width": null,
            "object_fit": null,
            "object_position": null,
            "order": null,
            "overflow": null,
            "overflow_x": null,
            "overflow_y": null,
            "padding": null,
            "right": null,
            "top": null,
            "visibility": null,
            "width": null
          }
        },
        "99885810aa1a46d9b77f864a7f7d6200": {
          "model_module": "@jupyter-widgets/controls",
          "model_name": "DescriptionStyleModel",
          "model_module_version": "1.5.0",
          "state": {
            "_model_module": "@jupyter-widgets/controls",
            "_model_module_version": "1.5.0",
            "_model_name": "DescriptionStyleModel",
            "_view_count": null,
            "_view_module": "@jupyter-widgets/base",
            "_view_module_version": "1.2.0",
            "_view_name": "StyleView",
            "description_width": ""
          }
        }
      }
    }
  },
  "cells": [
    {
      "cell_type": "code",
      "source": [
        "!pip install --upgrade nltk"
      ],
      "metadata": {
        "colab": {
          "base_uri": "https://localhost:8080/"
        },
        "id": "rUO_8VCa6HrB",
        "outputId": "05660daf-b18c-4252-958a-f02cebd7ac3e"
      },
      "execution_count": null,
      "outputs": [
        {
          "output_type": "stream",
          "name": "stdout",
          "text": [
            "Requirement already satisfied: nltk in /usr/local/lib/python3.10/dist-packages (3.8.1)\n",
            "Collecting nltk\n",
            "  Downloading nltk-3.9.1-py3-none-any.whl.metadata (2.9 kB)\n",
            "Requirement already satisfied: click in /usr/local/lib/python3.10/dist-packages (from nltk) (8.1.7)\n",
            "Requirement already satisfied: joblib in /usr/local/lib/python3.10/dist-packages (from nltk) (1.4.2)\n",
            "Requirement already satisfied: regex>=2021.8.3 in /usr/local/lib/python3.10/dist-packages (from nltk) (2024.9.11)\n",
            "Requirement already satisfied: tqdm in /usr/local/lib/python3.10/dist-packages (from nltk) (4.66.5)\n",
            "Downloading nltk-3.9.1-py3-none-any.whl (1.5 MB)\n",
            "\u001b[2K   \u001b[90m━━━━━━━━━━━━━━━━━━━━━━━━━━━━━━━━━━━━━━━━\u001b[0m \u001b[32m1.5/1.5 MB\u001b[0m \u001b[31m16.9 MB/s\u001b[0m eta \u001b[36m0:00:00\u001b[0m\n",
            "\u001b[?25hInstalling collected packages: nltk\n",
            "  Attempting uninstall: nltk\n",
            "    Found existing installation: nltk 3.8.1\n",
            "    Uninstalling nltk-3.8.1:\n",
            "      Successfully uninstalled nltk-3.8.1\n",
            "Successfully installed nltk-3.9.1\n"
          ]
        }
      ]
    },
    {
      "cell_type": "code",
      "source": [
        "\n",
        "!sudo apt install tesseract-ocr -y\n",
        "!sudo apt install libtesseract-dev -y\n",
        "!sudo apt install poppler-utils -y\n",
        "!pip install langchain unstructured[all-docs] pydantic lxml openai faiss-cpu\n",
        "!pip install langchain-community\n",
        "!pip install nltk unstructured[pdf]"
      ],
      "metadata": {
        "colab": {
          "base_uri": "https://localhost:8080/"
        },
        "id": "-dKvtw2q_bHC",
        "outputId": "6222eded-58e1-47f6-9941-54884bf93c5b"
      },
      "execution_count": null,
      "outputs": [
        {
          "output_type": "stream",
          "name": "stdout",
          "text": [
            "Reading package lists... Done\n",
            "Building dependency tree... Done\n",
            "Reading state information... Done\n",
            "tesseract-ocr is already the newest version (4.1.1-2.1build1).\n",
            "0 upgraded, 0 newly installed, 0 to remove and 49 not upgraded.\n",
            "Reading package lists... Done\n",
            "Building dependency tree... Done\n",
            "Reading state information... Done\n",
            "libtesseract-dev is already the newest version (4.1.1-2.1build1).\n",
            "0 upgraded, 0 newly installed, 0 to remove and 49 not upgraded.\n",
            "Reading package lists... Done\n",
            "Building dependency tree... Done\n",
            "Reading state information... Done\n",
            "poppler-utils is already the newest version (22.02.0-2ubuntu0.5).\n",
            "0 upgraded, 0 newly installed, 0 to remove and 49 not upgraded.\n",
            "Requirement already satisfied: langchain in /usr/local/lib/python3.10/dist-packages (0.3.3)\n",
            "Requirement already satisfied: pydantic in /usr/local/lib/python3.10/dist-packages (2.9.2)\n",
            "Requirement already satisfied: lxml in /usr/local/lib/python3.10/dist-packages (4.9.4)\n",
            "Requirement already satisfied: openai in /usr/local/lib/python3.10/dist-packages (1.51.2)\n",
            "Requirement already satisfied: faiss-cpu in /usr/local/lib/python3.10/dist-packages (1.9.0)\n",
            "Requirement already satisfied: unstructured[all-docs] in /usr/local/lib/python3.10/dist-packages (0.15.14)\n",
            "Requirement already satisfied: PyYAML>=5.3 in /usr/local/lib/python3.10/dist-packages (from langchain) (6.0.2)\n",
            "Requirement already satisfied: SQLAlchemy<3,>=1.4 in /usr/local/lib/python3.10/dist-packages (from langchain) (2.0.35)\n",
            "Requirement already satisfied: aiohttp<4.0.0,>=3.8.3 in /usr/local/lib/python3.10/dist-packages (from langchain) (3.10.10)\n",
            "Requirement already satisfied: async-timeout<5.0.0,>=4.0.0 in /usr/local/lib/python3.10/dist-packages (from langchain) (4.0.3)\n",
            "Requirement already satisfied: langchain-core<0.4.0,>=0.3.10 in /usr/local/lib/python3.10/dist-packages (from langchain) (0.3.10)\n",
            "Requirement already satisfied: langchain-text-splitters<0.4.0,>=0.3.0 in /usr/local/lib/python3.10/dist-packages (from langchain) (0.3.0)\n",
            "Requirement already satisfied: langsmith<0.2.0,>=0.1.17 in /usr/local/lib/python3.10/dist-packages (from langchain) (0.1.135)\n",
            "Requirement already satisfied: numpy<2,>=1 in /usr/local/lib/python3.10/dist-packages (from langchain) (1.26.4)\n",
            "Requirement already satisfied: requests<3,>=2 in /usr/local/lib/python3.10/dist-packages (from langchain) (2.32.3)\n",
            "Requirement already satisfied: tenacity!=8.4.0,<9.0.0,>=8.1.0 in /usr/local/lib/python3.10/dist-packages (from langchain) (8.5.0)\n",
            "Requirement already satisfied: chardet in /usr/local/lib/python3.10/dist-packages (from unstructured[all-docs]) (5.2.0)\n",
            "Requirement already satisfied: filetype in /usr/local/lib/python3.10/dist-packages (from unstructured[all-docs]) (1.2.0)\n",
            "Requirement already satisfied: python-magic in /usr/local/lib/python3.10/dist-packages (from unstructured[all-docs]) (0.4.27)\n",
            "Requirement already satisfied: nltk in /usr/local/lib/python3.10/dist-packages (from unstructured[all-docs]) (3.9.1)\n",
            "Requirement already satisfied: tabulate in /usr/local/lib/python3.10/dist-packages (from unstructured[all-docs]) (0.9.0)\n",
            "Requirement already satisfied: beautifulsoup4 in /usr/local/lib/python3.10/dist-packages (from unstructured[all-docs]) (4.12.3)\n",
            "Requirement already satisfied: emoji in /usr/local/lib/python3.10/dist-packages (from unstructured[all-docs]) (2.14.0)\n",
            "Requirement already satisfied: dataclasses-json in /usr/local/lib/python3.10/dist-packages (from unstructured[all-docs]) (0.6.7)\n",
            "Requirement already satisfied: python-iso639 in /usr/local/lib/python3.10/dist-packages (from unstructured[all-docs]) (2024.4.27)\n",
            "Requirement already satisfied: langdetect in /usr/local/lib/python3.10/dist-packages (from unstructured[all-docs]) (1.0.9)\n",
            "Requirement already satisfied: rapidfuzz in /usr/local/lib/python3.10/dist-packages (from unstructured[all-docs]) (3.10.0)\n",
            "Requirement already satisfied: backoff in /usr/local/lib/python3.10/dist-packages (from unstructured[all-docs]) (2.2.1)\n",
            "Requirement already satisfied: typing-extensions in /usr/local/lib/python3.10/dist-packages (from unstructured[all-docs]) (4.12.2)\n",
            "Requirement already satisfied: unstructured-client in /usr/local/lib/python3.10/dist-packages (from unstructured[all-docs]) (0.26.1)\n",
            "Requirement already satisfied: wrapt in /usr/local/lib/python3.10/dist-packages (from unstructured[all-docs]) (1.16.0)\n",
            "Requirement already satisfied: tqdm in /usr/local/lib/python3.10/dist-packages (from unstructured[all-docs]) (4.66.5)\n",
            "Requirement already satisfied: psutil in /usr/local/lib/python3.10/dist-packages (from unstructured[all-docs]) (5.9.5)\n",
            "Requirement already satisfied: python-oxmsg in /usr/local/lib/python3.10/dist-packages (from unstructured[all-docs]) (0.0.1)\n",
            "Requirement already satisfied: pdfminer.six in /usr/local/lib/python3.10/dist-packages (from unstructured[all-docs]) (20231228)\n",
            "Requirement already satisfied: google-cloud-vision in /usr/local/lib/python3.10/dist-packages (from unstructured[all-docs]) (3.7.4)\n",
            "Requirement already satisfied: networkx in /usr/local/lib/python3.10/dist-packages (from unstructured[all-docs]) (3.4)\n",
            "Requirement already satisfied: pi-heif in /usr/local/lib/python3.10/dist-packages (from unstructured[all-docs]) (0.18.0)\n",
            "Requirement already satisfied: pdf2image in /usr/local/lib/python3.10/dist-packages (from unstructured[all-docs]) (1.17.0)\n",
            "Requirement already satisfied: onnx in /usr/local/lib/python3.10/dist-packages (from unstructured[all-docs]) (1.17.0)\n",
            "Requirement already satisfied: python-pptx>=1.0.1 in /usr/local/lib/python3.10/dist-packages (from unstructured[all-docs]) (1.0.2)\n",
            "Requirement already satisfied: python-docx>=1.1.2 in /usr/local/lib/python3.10/dist-packages (from unstructured[all-docs]) (1.1.2)\n",
            "Requirement already satisfied: effdet in /usr/local/lib/python3.10/dist-packages (from unstructured[all-docs]) (0.4.1)\n",
            "Requirement already satisfied: markdown in /usr/local/lib/python3.10/dist-packages (from unstructured[all-docs]) (3.7)\n",
            "Requirement already satisfied: pikepdf in /usr/local/lib/python3.10/dist-packages (from unstructured[all-docs]) (9.3.0)\n",
            "Requirement already satisfied: unstructured-inference==0.7.36 in /usr/local/lib/python3.10/dist-packages (from unstructured[all-docs]) (0.7.36)\n",
            "Requirement already satisfied: unstructured.pytesseract>=0.3.12 in /usr/local/lib/python3.10/dist-packages (from unstructured[all-docs]) (0.3.13)\n",
            "Requirement already satisfied: openpyxl in /usr/local/lib/python3.10/dist-packages (from unstructured[all-docs]) (3.1.5)\n",
            "Requirement already satisfied: pypandoc in /usr/local/lib/python3.10/dist-packages (from unstructured[all-docs]) (1.14)\n",
            "Requirement already satisfied: pypdf in /usr/local/lib/python3.10/dist-packages (from unstructured[all-docs]) (5.0.1)\n",
            "Requirement already satisfied: pandas in /usr/local/lib/python3.10/dist-packages (from unstructured[all-docs]) (2.2.2)\n",
            "Requirement already satisfied: xlrd in /usr/local/lib/python3.10/dist-packages (from unstructured[all-docs]) (2.0.1)\n",
            "Requirement already satisfied: layoutparser in /usr/local/lib/python3.10/dist-packages (from unstructured-inference==0.7.36->unstructured[all-docs]) (0.3.4)\n",
            "Requirement already satisfied: python-multipart in /usr/local/lib/python3.10/dist-packages (from unstructured-inference==0.7.36->unstructured[all-docs]) (0.0.12)\n",
            "Requirement already satisfied: huggingface-hub in /usr/local/lib/python3.10/dist-packages (from unstructured-inference==0.7.36->unstructured[all-docs]) (0.24.7)\n",
            "Requirement already satisfied: opencv-python!=4.7.0.68 in /usr/local/lib/python3.10/dist-packages (from unstructured-inference==0.7.36->unstructured[all-docs]) (4.10.0.84)\n",
            "Requirement already satisfied: onnxruntime>=1.17.0 in /usr/local/lib/python3.10/dist-packages (from unstructured-inference==0.7.36->unstructured[all-docs]) (1.19.2)\n",
            "Requirement already satisfied: matplotlib in /usr/local/lib/python3.10/dist-packages (from unstructured-inference==0.7.36->unstructured[all-docs]) (3.7.1)\n",
            "Requirement already satisfied: torch in /usr/local/lib/python3.10/dist-packages (from unstructured-inference==0.7.36->unstructured[all-docs]) (2.4.1+cu121)\n",
            "Requirement already satisfied: timm in /usr/local/lib/python3.10/dist-packages (from unstructured-inference==0.7.36->unstructured[all-docs]) (1.0.10)\n",
            "Requirement already satisfied: transformers>=4.25.1 in /usr/local/lib/python3.10/dist-packages (from unstructured-inference==0.7.36->unstructured[all-docs]) (4.44.2)\n",
            "Requirement already satisfied: annotated-types>=0.6.0 in /usr/local/lib/python3.10/dist-packages (from pydantic) (0.7.0)\n",
            "Requirement already satisfied: pydantic-core==2.23.4 in /usr/local/lib/python3.10/dist-packages (from pydantic) (2.23.4)\n",
            "Requirement already satisfied: anyio<5,>=3.5.0 in /usr/local/lib/python3.10/dist-packages (from openai) (3.7.1)\n",
            "Requirement already satisfied: distro<2,>=1.7.0 in /usr/lib/python3/dist-packages (from openai) (1.7.0)\n",
            "Requirement already satisfied: httpx<1,>=0.23.0 in /usr/local/lib/python3.10/dist-packages (from openai) (0.27.2)\n",
            "Requirement already satisfied: jiter<1,>=0.4.0 in /usr/local/lib/python3.10/dist-packages (from openai) (0.6.1)\n",
            "Requirement already satisfied: sniffio in /usr/local/lib/python3.10/dist-packages (from openai) (1.3.1)\n",
            "Requirement already satisfied: packaging in /usr/local/lib/python3.10/dist-packages (from faiss-cpu) (24.1)\n",
            "Requirement already satisfied: aiohappyeyeballs>=2.3.0 in /usr/local/lib/python3.10/dist-packages (from aiohttp<4.0.0,>=3.8.3->langchain) (2.4.3)\n",
            "Requirement already satisfied: aiosignal>=1.1.2 in /usr/local/lib/python3.10/dist-packages (from aiohttp<4.0.0,>=3.8.3->langchain) (1.3.1)\n",
            "Requirement already satisfied: attrs>=17.3.0 in /usr/local/lib/python3.10/dist-packages (from aiohttp<4.0.0,>=3.8.3->langchain) (24.2.0)\n",
            "Requirement already satisfied: frozenlist>=1.1.1 in /usr/local/lib/python3.10/dist-packages (from aiohttp<4.0.0,>=3.8.3->langchain) (1.4.1)\n",
            "Requirement already satisfied: multidict<7.0,>=4.5 in /usr/local/lib/python3.10/dist-packages (from aiohttp<4.0.0,>=3.8.3->langchain) (6.1.0)\n",
            "Requirement already satisfied: yarl<2.0,>=1.12.0 in /usr/local/lib/python3.10/dist-packages (from aiohttp<4.0.0,>=3.8.3->langchain) (1.14.0)\n",
            "Requirement already satisfied: idna>=2.8 in /usr/local/lib/python3.10/dist-packages (from anyio<5,>=3.5.0->openai) (3.10)\n",
            "Requirement already satisfied: exceptiongroup in /usr/local/lib/python3.10/dist-packages (from anyio<5,>=3.5.0->openai) (1.2.2)\n",
            "Requirement already satisfied: certifi in /usr/local/lib/python3.10/dist-packages (from httpx<1,>=0.23.0->openai) (2024.8.30)\n",
            "Requirement already satisfied: httpcore==1.* in /usr/local/lib/python3.10/dist-packages (from httpx<1,>=0.23.0->openai) (1.0.6)\n",
            "Requirement already satisfied: h11<0.15,>=0.13 in /usr/local/lib/python3.10/dist-packages (from httpcore==1.*->httpx<1,>=0.23.0->openai) (0.14.0)\n",
            "Requirement already satisfied: jsonpatch<2.0,>=1.33 in /usr/local/lib/python3.10/dist-packages (from langchain-core<0.4.0,>=0.3.10->langchain) (1.33)\n",
            "Requirement already satisfied: orjson<4.0.0,>=3.9.14 in /usr/local/lib/python3.10/dist-packages (from langsmith<0.2.0,>=0.1.17->langchain) (3.10.7)\n",
            "Requirement already satisfied: requests-toolbelt<2.0.0,>=1.0.0 in /usr/local/lib/python3.10/dist-packages (from langsmith<0.2.0,>=0.1.17->langchain) (1.0.0)\n",
            "Requirement already satisfied: Pillow>=3.3.2 in /usr/local/lib/python3.10/dist-packages (from python-pptx>=1.0.1->unstructured[all-docs]) (10.4.0)\n",
            "Requirement already satisfied: XlsxWriter>=0.5.7 in /usr/local/lib/python3.10/dist-packages (from python-pptx>=1.0.1->unstructured[all-docs]) (3.2.0)\n",
            "Requirement already satisfied: charset-normalizer<4,>=2 in /usr/local/lib/python3.10/dist-packages (from requests<3,>=2->langchain) (3.4.0)\n",
            "Requirement already satisfied: urllib3<3,>=1.21.1 in /usr/local/lib/python3.10/dist-packages (from requests<3,>=2->langchain) (2.2.3)\n",
            "Requirement already satisfied: greenlet!=0.4.17 in /usr/local/lib/python3.10/dist-packages (from SQLAlchemy<3,>=1.4->langchain) (3.1.1)\n",
            "Requirement already satisfied: soupsieve>1.2 in /usr/local/lib/python3.10/dist-packages (from beautifulsoup4->unstructured[all-docs]) (2.6)\n",
            "Requirement already satisfied: marshmallow<4.0.0,>=3.18.0 in /usr/local/lib/python3.10/dist-packages (from dataclasses-json->unstructured[all-docs]) (3.22.0)\n",
            "Requirement already satisfied: typing-inspect<1,>=0.4.0 in /usr/local/lib/python3.10/dist-packages (from dataclasses-json->unstructured[all-docs]) (0.9.0)\n",
            "Requirement already satisfied: torchvision in /usr/local/lib/python3.10/dist-packages (from effdet->unstructured[all-docs]) (0.19.1+cu121)\n",
            "Requirement already satisfied: pycocotools>=2.0.2 in /usr/local/lib/python3.10/dist-packages (from effdet->unstructured[all-docs]) (2.0.8)\n",
            "Requirement already satisfied: omegaconf>=2.0 in /usr/local/lib/python3.10/dist-packages (from effdet->unstructured[all-docs]) (2.3.0)\n",
            "Requirement already satisfied: google-api-core!=2.0.*,!=2.1.*,!=2.10.*,!=2.2.*,!=2.3.*,!=2.4.*,!=2.5.*,!=2.6.*,!=2.7.*,!=2.8.*,!=2.9.*,<3.0.0dev,>=1.34.1 in /usr/local/lib/python3.10/dist-packages (from google-api-core[grpc]!=2.0.*,!=2.1.*,!=2.10.*,!=2.2.*,!=2.3.*,!=2.4.*,!=2.5.*,!=2.6.*,!=2.7.*,!=2.8.*,!=2.9.*,<3.0.0dev,>=1.34.1->google-cloud-vision->unstructured[all-docs]) (2.19.2)\n",
            "Requirement already satisfied: google-auth!=2.24.0,!=2.25.0,<3.0.0dev,>=2.14.1 in /usr/local/lib/python3.10/dist-packages (from google-cloud-vision->unstructured[all-docs]) (2.27.0)\n",
            "Requirement already satisfied: proto-plus<2.0.0dev,>=1.22.3 in /usr/local/lib/python3.10/dist-packages (from google-cloud-vision->unstructured[all-docs]) (1.24.0)\n",
            "Requirement already satisfied: protobuf!=4.21.0,!=4.21.1,!=4.21.2,!=4.21.3,!=4.21.4,!=4.21.5,<6.0.0dev,>=3.20.2 in /usr/local/lib/python3.10/dist-packages (from google-cloud-vision->unstructured[all-docs]) (3.20.3)\n",
            "Requirement already satisfied: six in /usr/local/lib/python3.10/dist-packages (from langdetect->unstructured[all-docs]) (1.16.0)\n",
            "Requirement already satisfied: click in /usr/local/lib/python3.10/dist-packages (from nltk->unstructured[all-docs]) (8.1.7)\n",
            "Requirement already satisfied: joblib in /usr/local/lib/python3.10/dist-packages (from nltk->unstructured[all-docs]) (1.4.2)\n",
            "Requirement already satisfied: regex>=2021.8.3 in /usr/local/lib/python3.10/dist-packages (from nltk->unstructured[all-docs]) (2024.9.11)\n",
            "Requirement already satisfied: et-xmlfile in /usr/local/lib/python3.10/dist-packages (from openpyxl->unstructured[all-docs]) (1.1.0)\n",
            "Requirement already satisfied: python-dateutil>=2.8.2 in /usr/local/lib/python3.10/dist-packages (from pandas->unstructured[all-docs]) (2.8.2)\n",
            "Requirement already satisfied: pytz>=2020.1 in /usr/local/lib/python3.10/dist-packages (from pandas->unstructured[all-docs]) (2024.2)\n",
            "Requirement already satisfied: tzdata>=2022.7 in /usr/local/lib/python3.10/dist-packages (from pandas->unstructured[all-docs]) (2024.2)\n",
            "Requirement already satisfied: cryptography>=36.0.0 in /usr/local/lib/python3.10/dist-packages (from pdfminer.six->unstructured[all-docs]) (43.0.1)\n",
            "Requirement already satisfied: Deprecated in /usr/local/lib/python3.10/dist-packages (from pikepdf->unstructured[all-docs]) (1.2.14)\n",
            "Requirement already satisfied: olefile in /usr/local/lib/python3.10/dist-packages (from python-oxmsg->unstructured[all-docs]) (0.47)\n",
            "Requirement already satisfied: eval-type-backport<0.3.0,>=0.2.0 in /usr/local/lib/python3.10/dist-packages (from unstructured-client->unstructured[all-docs]) (0.2.0)\n",
            "Requirement already satisfied: jsonpath-python<2.0.0,>=1.0.6 in /usr/local/lib/python3.10/dist-packages (from unstructured-client->unstructured[all-docs]) (1.0.6)\n",
            "Requirement already satisfied: nest-asyncio>=1.6.0 in /usr/local/lib/python3.10/dist-packages (from unstructured-client->unstructured[all-docs]) (1.6.0)\n",
            "Requirement already satisfied: cffi>=1.12 in /usr/local/lib/python3.10/dist-packages (from cryptography>=36.0.0->pdfminer.six->unstructured[all-docs]) (1.17.1)\n",
            "Requirement already satisfied: googleapis-common-protos<2.0.dev0,>=1.56.2 in /usr/local/lib/python3.10/dist-packages (from google-api-core!=2.0.*,!=2.1.*,!=2.10.*,!=2.2.*,!=2.3.*,!=2.4.*,!=2.5.*,!=2.6.*,!=2.7.*,!=2.8.*,!=2.9.*,<3.0.0dev,>=1.34.1->google-api-core[grpc]!=2.0.*,!=2.1.*,!=2.10.*,!=2.2.*,!=2.3.*,!=2.4.*,!=2.5.*,!=2.6.*,!=2.7.*,!=2.8.*,!=2.9.*,<3.0.0dev,>=1.34.1->google-cloud-vision->unstructured[all-docs]) (1.65.0)\n",
            "Requirement already satisfied: grpcio<2.0dev,>=1.33.2 in /usr/local/lib/python3.10/dist-packages (from google-api-core[grpc]!=2.0.*,!=2.1.*,!=2.10.*,!=2.2.*,!=2.3.*,!=2.4.*,!=2.5.*,!=2.6.*,!=2.7.*,!=2.8.*,!=2.9.*,<3.0.0dev,>=1.34.1->google-cloud-vision->unstructured[all-docs]) (1.64.1)\n",
            "Requirement already satisfied: grpcio-status<2.0.dev0,>=1.33.2 in /usr/local/lib/python3.10/dist-packages (from google-api-core[grpc]!=2.0.*,!=2.1.*,!=2.10.*,!=2.2.*,!=2.3.*,!=2.4.*,!=2.5.*,!=2.6.*,!=2.7.*,!=2.8.*,!=2.9.*,<3.0.0dev,>=1.34.1->google-cloud-vision->unstructured[all-docs]) (1.48.2)\n",
            "Requirement already satisfied: cachetools<6.0,>=2.0.0 in /usr/local/lib/python3.10/dist-packages (from google-auth!=2.24.0,!=2.25.0,<3.0.0dev,>=2.14.1->google-cloud-vision->unstructured[all-docs]) (5.5.0)\n",
            "Requirement already satisfied: pyasn1-modules>=0.2.1 in /usr/local/lib/python3.10/dist-packages (from google-auth!=2.24.0,!=2.25.0,<3.0.0dev,>=2.14.1->google-cloud-vision->unstructured[all-docs]) (0.4.1)\n",
            "Requirement already satisfied: rsa<5,>=3.1.4 in /usr/local/lib/python3.10/dist-packages (from google-auth!=2.24.0,!=2.25.0,<3.0.0dev,>=2.14.1->google-cloud-vision->unstructured[all-docs]) (4.9)\n",
            "Requirement already satisfied: jsonpointer>=1.9 in /usr/local/lib/python3.10/dist-packages (from jsonpatch<2.0,>=1.33->langchain-core<0.4.0,>=0.3.10->langchain) (3.0.0)\n",
            "Requirement already satisfied: antlr4-python3-runtime==4.9.* in /usr/local/lib/python3.10/dist-packages (from omegaconf>=2.0->effdet->unstructured[all-docs]) (4.9.3)\n",
            "Requirement already satisfied: coloredlogs in /usr/local/lib/python3.10/dist-packages (from onnxruntime>=1.17.0->unstructured-inference==0.7.36->unstructured[all-docs]) (15.0.1)\n",
            "Requirement already satisfied: flatbuffers in /usr/local/lib/python3.10/dist-packages (from onnxruntime>=1.17.0->unstructured-inference==0.7.36->unstructured[all-docs]) (24.3.25)\n",
            "Requirement already satisfied: sympy in /usr/local/lib/python3.10/dist-packages (from onnxruntime>=1.17.0->unstructured-inference==0.7.36->unstructured[all-docs]) (1.13.3)\n",
            "Requirement already satisfied: contourpy>=1.0.1 in /usr/local/lib/python3.10/dist-packages (from matplotlib->unstructured-inference==0.7.36->unstructured[all-docs]) (1.3.0)\n",
            "Requirement already satisfied: cycler>=0.10 in /usr/local/lib/python3.10/dist-packages (from matplotlib->unstructured-inference==0.7.36->unstructured[all-docs]) (0.12.1)\n",
            "Requirement already satisfied: fonttools>=4.22.0 in /usr/local/lib/python3.10/dist-packages (from matplotlib->unstructured-inference==0.7.36->unstructured[all-docs]) (4.54.1)\n",
            "Requirement already satisfied: kiwisolver>=1.0.1 in /usr/local/lib/python3.10/dist-packages (from matplotlib->unstructured-inference==0.7.36->unstructured[all-docs]) (1.4.7)\n",
            "Requirement already satisfied: pyparsing>=2.3.1 in /usr/local/lib/python3.10/dist-packages (from matplotlib->unstructured-inference==0.7.36->unstructured[all-docs]) (3.1.4)\n",
            "Requirement already satisfied: safetensors in /usr/local/lib/python3.10/dist-packages (from timm->unstructured-inference==0.7.36->unstructured[all-docs]) (0.4.5)\n",
            "Requirement already satisfied: filelock in /usr/local/lib/python3.10/dist-packages (from torch->unstructured-inference==0.7.36->unstructured[all-docs]) (3.16.1)\n",
            "Requirement already satisfied: jinja2 in /usr/local/lib/python3.10/dist-packages (from torch->unstructured-inference==0.7.36->unstructured[all-docs]) (3.1.4)\n",
            "Requirement already satisfied: fsspec in /usr/local/lib/python3.10/dist-packages (from torch->unstructured-inference==0.7.36->unstructured[all-docs]) (2024.6.1)\n",
            "Requirement already satisfied: tokenizers<0.20,>=0.19 in /usr/local/lib/python3.10/dist-packages (from transformers>=4.25.1->unstructured-inference==0.7.36->unstructured[all-docs]) (0.19.1)\n",
            "Requirement already satisfied: mypy-extensions>=0.3.0 in /usr/local/lib/python3.10/dist-packages (from typing-inspect<1,>=0.4.0->dataclasses-json->unstructured[all-docs]) (1.0.0)\n",
            "Requirement already satisfied: propcache>=0.2.0 in /usr/local/lib/python3.10/dist-packages (from yarl<2.0,>=1.12.0->aiohttp<4.0.0,>=3.8.3->langchain) (0.2.0)\n",
            "Requirement already satisfied: scipy in /usr/local/lib/python3.10/dist-packages (from layoutparser->unstructured-inference==0.7.36->unstructured[all-docs]) (1.13.1)\n",
            "Requirement already satisfied: iopath in /usr/local/lib/python3.10/dist-packages (from layoutparser->unstructured-inference==0.7.36->unstructured[all-docs]) (0.1.10)\n",
            "Requirement already satisfied: pdfplumber in /usr/local/lib/python3.10/dist-packages (from layoutparser->unstructured-inference==0.7.36->unstructured[all-docs]) (0.11.4)\n",
            "Requirement already satisfied: pycparser in /usr/local/lib/python3.10/dist-packages (from cffi>=1.12->cryptography>=36.0.0->pdfminer.six->unstructured[all-docs]) (2.22)\n",
            "Requirement already satisfied: pyasn1<0.7.0,>=0.4.6 in /usr/local/lib/python3.10/dist-packages (from pyasn1-modules>=0.2.1->google-auth!=2.24.0,!=2.25.0,<3.0.0dev,>=2.14.1->google-cloud-vision->unstructured[all-docs]) (0.6.1)\n",
            "Requirement already satisfied: humanfriendly>=9.1 in /usr/local/lib/python3.10/dist-packages (from coloredlogs->onnxruntime>=1.17.0->unstructured-inference==0.7.36->unstructured[all-docs]) (10.0)\n",
            "Requirement already satisfied: portalocker in /usr/local/lib/python3.10/dist-packages (from iopath->layoutparser->unstructured-inference==0.7.36->unstructured[all-docs]) (2.10.1)\n",
            "Requirement already satisfied: MarkupSafe>=2.0 in /usr/local/lib/python3.10/dist-packages (from jinja2->torch->unstructured-inference==0.7.36->unstructured[all-docs]) (3.0.1)\n",
            "Requirement already satisfied: pypdfium2>=4.18.0 in /usr/local/lib/python3.10/dist-packages (from pdfplumber->layoutparser->unstructured-inference==0.7.36->unstructured[all-docs]) (4.30.0)\n",
            "Requirement already satisfied: mpmath<1.4,>=1.1.0 in /usr/local/lib/python3.10/dist-packages (from sympy->onnxruntime>=1.17.0->unstructured-inference==0.7.36->unstructured[all-docs]) (1.3.0)\n",
            "Requirement already satisfied: langchain-community in /usr/local/lib/python3.10/dist-packages (0.3.2)\n",
            "Requirement already satisfied: PyYAML>=5.3 in /usr/local/lib/python3.10/dist-packages (from langchain-community) (6.0.2)\n",
            "Requirement already satisfied: SQLAlchemy<3,>=1.4 in /usr/local/lib/python3.10/dist-packages (from langchain-community) (2.0.35)\n",
            "Requirement already satisfied: aiohttp<4.0.0,>=3.8.3 in /usr/local/lib/python3.10/dist-packages (from langchain-community) (3.10.10)\n",
            "Requirement already satisfied: dataclasses-json<0.7,>=0.5.7 in /usr/local/lib/python3.10/dist-packages (from langchain-community) (0.6.7)\n",
            "Requirement already satisfied: langchain<0.4.0,>=0.3.3 in /usr/local/lib/python3.10/dist-packages (from langchain-community) (0.3.3)\n",
            "Requirement already satisfied: langchain-core<0.4.0,>=0.3.10 in /usr/local/lib/python3.10/dist-packages (from langchain-community) (0.3.10)\n",
            "Requirement already satisfied: langsmith<0.2.0,>=0.1.125 in /usr/local/lib/python3.10/dist-packages (from langchain-community) (0.1.135)\n",
            "Requirement already satisfied: numpy<2,>=1 in /usr/local/lib/python3.10/dist-packages (from langchain-community) (1.26.4)\n",
            "Requirement already satisfied: pydantic-settings<3.0.0,>=2.4.0 in /usr/local/lib/python3.10/dist-packages (from langchain-community) (2.5.2)\n",
            "Requirement already satisfied: requests<3,>=2 in /usr/local/lib/python3.10/dist-packages (from langchain-community) (2.32.3)\n",
            "Requirement already satisfied: tenacity!=8.4.0,<9.0.0,>=8.1.0 in /usr/local/lib/python3.10/dist-packages (from langchain-community) (8.5.0)\n",
            "Requirement already satisfied: aiohappyeyeballs>=2.3.0 in /usr/local/lib/python3.10/dist-packages (from aiohttp<4.0.0,>=3.8.3->langchain-community) (2.4.3)\n",
            "Requirement already satisfied: aiosignal>=1.1.2 in /usr/local/lib/python3.10/dist-packages (from aiohttp<4.0.0,>=3.8.3->langchain-community) (1.3.1)\n",
            "Requirement already satisfied: attrs>=17.3.0 in /usr/local/lib/python3.10/dist-packages (from aiohttp<4.0.0,>=3.8.3->langchain-community) (24.2.0)\n",
            "Requirement already satisfied: frozenlist>=1.1.1 in /usr/local/lib/python3.10/dist-packages (from aiohttp<4.0.0,>=3.8.3->langchain-community) (1.4.1)\n",
            "Requirement already satisfied: multidict<7.0,>=4.5 in /usr/local/lib/python3.10/dist-packages (from aiohttp<4.0.0,>=3.8.3->langchain-community) (6.1.0)\n",
            "Requirement already satisfied: yarl<2.0,>=1.12.0 in /usr/local/lib/python3.10/dist-packages (from aiohttp<4.0.0,>=3.8.3->langchain-community) (1.14.0)\n",
            "Requirement already satisfied: async-timeout<5.0,>=4.0 in /usr/local/lib/python3.10/dist-packages (from aiohttp<4.0.0,>=3.8.3->langchain-community) (4.0.3)\n",
            "Requirement already satisfied: marshmallow<4.0.0,>=3.18.0 in /usr/local/lib/python3.10/dist-packages (from dataclasses-json<0.7,>=0.5.7->langchain-community) (3.22.0)\n",
            "Requirement already satisfied: typing-inspect<1,>=0.4.0 in /usr/local/lib/python3.10/dist-packages (from dataclasses-json<0.7,>=0.5.7->langchain-community) (0.9.0)\n",
            "Requirement already satisfied: langchain-text-splitters<0.4.0,>=0.3.0 in /usr/local/lib/python3.10/dist-packages (from langchain<0.4.0,>=0.3.3->langchain-community) (0.3.0)\n",
            "Requirement already satisfied: pydantic<3.0.0,>=2.7.4 in /usr/local/lib/python3.10/dist-packages (from langchain<0.4.0,>=0.3.3->langchain-community) (2.9.2)\n",
            "Requirement already satisfied: jsonpatch<2.0,>=1.33 in /usr/local/lib/python3.10/dist-packages (from langchain-core<0.4.0,>=0.3.10->langchain-community) (1.33)\n",
            "Requirement already satisfied: packaging<25,>=23.2 in /usr/local/lib/python3.10/dist-packages (from langchain-core<0.4.0,>=0.3.10->langchain-community) (24.1)\n",
            "Requirement already satisfied: typing-extensions>=4.7 in /usr/local/lib/python3.10/dist-packages (from langchain-core<0.4.0,>=0.3.10->langchain-community) (4.12.2)\n",
            "Requirement already satisfied: httpx<1,>=0.23.0 in /usr/local/lib/python3.10/dist-packages (from langsmith<0.2.0,>=0.1.125->langchain-community) (0.27.2)\n",
            "Requirement already satisfied: orjson<4.0.0,>=3.9.14 in /usr/local/lib/python3.10/dist-packages (from langsmith<0.2.0,>=0.1.125->langchain-community) (3.10.7)\n",
            "Requirement already satisfied: requests-toolbelt<2.0.0,>=1.0.0 in /usr/local/lib/python3.10/dist-packages (from langsmith<0.2.0,>=0.1.125->langchain-community) (1.0.0)\n",
            "Requirement already satisfied: python-dotenv>=0.21.0 in /usr/local/lib/python3.10/dist-packages (from pydantic-settings<3.0.0,>=2.4.0->langchain-community) (1.0.1)\n",
            "Requirement already satisfied: charset-normalizer<4,>=2 in /usr/local/lib/python3.10/dist-packages (from requests<3,>=2->langchain-community) (3.4.0)\n",
            "Requirement already satisfied: idna<4,>=2.5 in /usr/local/lib/python3.10/dist-packages (from requests<3,>=2->langchain-community) (3.10)\n",
            "Requirement already satisfied: urllib3<3,>=1.21.1 in /usr/local/lib/python3.10/dist-packages (from requests<3,>=2->langchain-community) (2.2.3)\n",
            "Requirement already satisfied: certifi>=2017.4.17 in /usr/local/lib/python3.10/dist-packages (from requests<3,>=2->langchain-community) (2024.8.30)\n",
            "Requirement already satisfied: greenlet!=0.4.17 in /usr/local/lib/python3.10/dist-packages (from SQLAlchemy<3,>=1.4->langchain-community) (3.1.1)\n",
            "Requirement already satisfied: anyio in /usr/local/lib/python3.10/dist-packages (from httpx<1,>=0.23.0->langsmith<0.2.0,>=0.1.125->langchain-community) (3.7.1)\n",
            "Requirement already satisfied: httpcore==1.* in /usr/local/lib/python3.10/dist-packages (from httpx<1,>=0.23.0->langsmith<0.2.0,>=0.1.125->langchain-community) (1.0.6)\n",
            "Requirement already satisfied: sniffio in /usr/local/lib/python3.10/dist-packages (from httpx<1,>=0.23.0->langsmith<0.2.0,>=0.1.125->langchain-community) (1.3.1)\n",
            "Requirement already satisfied: h11<0.15,>=0.13 in /usr/local/lib/python3.10/dist-packages (from httpcore==1.*->httpx<1,>=0.23.0->langsmith<0.2.0,>=0.1.125->langchain-community) (0.14.0)\n",
            "Requirement already satisfied: jsonpointer>=1.9 in /usr/local/lib/python3.10/dist-packages (from jsonpatch<2.0,>=1.33->langchain-core<0.4.0,>=0.3.10->langchain-community) (3.0.0)\n",
            "Requirement already satisfied: annotated-types>=0.6.0 in /usr/local/lib/python3.10/dist-packages (from pydantic<3.0.0,>=2.7.4->langchain<0.4.0,>=0.3.3->langchain-community) (0.7.0)\n",
            "Requirement already satisfied: pydantic-core==2.23.4 in /usr/local/lib/python3.10/dist-packages (from pydantic<3.0.0,>=2.7.4->langchain<0.4.0,>=0.3.3->langchain-community) (2.23.4)\n",
            "Requirement already satisfied: mypy-extensions>=0.3.0 in /usr/local/lib/python3.10/dist-packages (from typing-inspect<1,>=0.4.0->dataclasses-json<0.7,>=0.5.7->langchain-community) (1.0.0)\n",
            "Requirement already satisfied: propcache>=0.2.0 in /usr/local/lib/python3.10/dist-packages (from yarl<2.0,>=1.12.0->aiohttp<4.0.0,>=3.8.3->langchain-community) (0.2.0)\n",
            "Requirement already satisfied: exceptiongroup in /usr/local/lib/python3.10/dist-packages (from anyio->httpx<1,>=0.23.0->langsmith<0.2.0,>=0.1.125->langchain-community) (1.2.2)\n",
            "Requirement already satisfied: nltk in /usr/local/lib/python3.10/dist-packages (3.9.1)\n",
            "Requirement already satisfied: unstructured[pdf] in /usr/local/lib/python3.10/dist-packages (0.15.14)\n",
            "Requirement already satisfied: click in /usr/local/lib/python3.10/dist-packages (from nltk) (8.1.7)\n",
            "Requirement already satisfied: joblib in /usr/local/lib/python3.10/dist-packages (from nltk) (1.4.2)\n",
            "Requirement already satisfied: regex>=2021.8.3 in /usr/local/lib/python3.10/dist-packages (from nltk) (2024.9.11)\n",
            "Requirement already satisfied: tqdm in /usr/local/lib/python3.10/dist-packages (from nltk) (4.66.5)\n",
            "Requirement already satisfied: chardet in /usr/local/lib/python3.10/dist-packages (from unstructured[pdf]) (5.2.0)\n",
            "Requirement already satisfied: filetype in /usr/local/lib/python3.10/dist-packages (from unstructured[pdf]) (1.2.0)\n",
            "Requirement already satisfied: python-magic in /usr/local/lib/python3.10/dist-packages (from unstructured[pdf]) (0.4.27)\n",
            "Requirement already satisfied: lxml in /usr/local/lib/python3.10/dist-packages (from unstructured[pdf]) (4.9.4)\n",
            "Requirement already satisfied: tabulate in /usr/local/lib/python3.10/dist-packages (from unstructured[pdf]) (0.9.0)\n",
            "Requirement already satisfied: requests in /usr/local/lib/python3.10/dist-packages (from unstructured[pdf]) (2.32.3)\n",
            "Requirement already satisfied: beautifulsoup4 in /usr/local/lib/python3.10/dist-packages (from unstructured[pdf]) (4.12.3)\n",
            "Requirement already satisfied: emoji in /usr/local/lib/python3.10/dist-packages (from unstructured[pdf]) (2.14.0)\n",
            "Requirement already satisfied: dataclasses-json in /usr/local/lib/python3.10/dist-packages (from unstructured[pdf]) (0.6.7)\n",
            "Requirement already satisfied: python-iso639 in /usr/local/lib/python3.10/dist-packages (from unstructured[pdf]) (2024.4.27)\n",
            "Requirement already satisfied: langdetect in /usr/local/lib/python3.10/dist-packages (from unstructured[pdf]) (1.0.9)\n",
            "Requirement already satisfied: numpy<2 in /usr/local/lib/python3.10/dist-packages (from unstructured[pdf]) (1.26.4)\n",
            "Requirement already satisfied: rapidfuzz in /usr/local/lib/python3.10/dist-packages (from unstructured[pdf]) (3.10.0)\n",
            "Requirement already satisfied: backoff in /usr/local/lib/python3.10/dist-packages (from unstructured[pdf]) (2.2.1)\n",
            "Requirement already satisfied: typing-extensions in /usr/local/lib/python3.10/dist-packages (from unstructured[pdf]) (4.12.2)\n",
            "Requirement already satisfied: unstructured-client in /usr/local/lib/python3.10/dist-packages (from unstructured[pdf]) (0.26.1)\n",
            "Requirement already satisfied: wrapt in /usr/local/lib/python3.10/dist-packages (from unstructured[pdf]) (1.16.0)\n",
            "Requirement already satisfied: psutil in /usr/local/lib/python3.10/dist-packages (from unstructured[pdf]) (5.9.5)\n",
            "Requirement already satisfied: python-oxmsg in /usr/local/lib/python3.10/dist-packages (from unstructured[pdf]) (0.0.1)\n",
            "Requirement already satisfied: onnx in /usr/local/lib/python3.10/dist-packages (from unstructured[pdf]) (1.17.0)\n",
            "Requirement already satisfied: pdf2image in /usr/local/lib/python3.10/dist-packages (from unstructured[pdf]) (1.17.0)\n",
            "Requirement already satisfied: pdfminer.six in /usr/local/lib/python3.10/dist-packages (from unstructured[pdf]) (20231228)\n",
            "Requirement already satisfied: pikepdf in /usr/local/lib/python3.10/dist-packages (from unstructured[pdf]) (9.3.0)\n",
            "Requirement already satisfied: pi-heif in /usr/local/lib/python3.10/dist-packages (from unstructured[pdf]) (0.18.0)\n",
            "Requirement already satisfied: pypdf in /usr/local/lib/python3.10/dist-packages (from unstructured[pdf]) (5.0.1)\n",
            "Requirement already satisfied: google-cloud-vision in /usr/local/lib/python3.10/dist-packages (from unstructured[pdf]) (3.7.4)\n",
            "Requirement already satisfied: effdet in /usr/local/lib/python3.10/dist-packages (from unstructured[pdf]) (0.4.1)\n",
            "Requirement already satisfied: unstructured-inference==0.7.36 in /usr/local/lib/python3.10/dist-packages (from unstructured[pdf]) (0.7.36)\n",
            "Requirement already satisfied: unstructured.pytesseract>=0.3.12 in /usr/local/lib/python3.10/dist-packages (from unstructured[pdf]) (0.3.13)\n",
            "Requirement already satisfied: layoutparser in /usr/local/lib/python3.10/dist-packages (from unstructured-inference==0.7.36->unstructured[pdf]) (0.3.4)\n",
            "Requirement already satisfied: python-multipart in /usr/local/lib/python3.10/dist-packages (from unstructured-inference==0.7.36->unstructured[pdf]) (0.0.12)\n",
            "Requirement already satisfied: huggingface-hub in /usr/local/lib/python3.10/dist-packages (from unstructured-inference==0.7.36->unstructured[pdf]) (0.24.7)\n",
            "Requirement already satisfied: opencv-python!=4.7.0.68 in /usr/local/lib/python3.10/dist-packages (from unstructured-inference==0.7.36->unstructured[pdf]) (4.10.0.84)\n",
            "Requirement already satisfied: onnxruntime>=1.17.0 in /usr/local/lib/python3.10/dist-packages (from unstructured-inference==0.7.36->unstructured[pdf]) (1.19.2)\n",
            "Requirement already satisfied: matplotlib in /usr/local/lib/python3.10/dist-packages (from unstructured-inference==0.7.36->unstructured[pdf]) (3.7.1)\n",
            "Requirement already satisfied: torch in /usr/local/lib/python3.10/dist-packages (from unstructured-inference==0.7.36->unstructured[pdf]) (2.4.1+cu121)\n",
            "Requirement already satisfied: timm in /usr/local/lib/python3.10/dist-packages (from unstructured-inference==0.7.36->unstructured[pdf]) (1.0.10)\n",
            "Requirement already satisfied: transformers>=4.25.1 in /usr/local/lib/python3.10/dist-packages (from unstructured-inference==0.7.36->unstructured[pdf]) (4.44.2)\n",
            "Requirement already satisfied: packaging>=21.3 in /usr/local/lib/python3.10/dist-packages (from unstructured.pytesseract>=0.3.12->unstructured[pdf]) (24.1)\n",
            "Requirement already satisfied: Pillow>=8.0.0 in /usr/local/lib/python3.10/dist-packages (from unstructured.pytesseract>=0.3.12->unstructured[pdf]) (10.4.0)\n",
            "Requirement already satisfied: soupsieve>1.2 in /usr/local/lib/python3.10/dist-packages (from beautifulsoup4->unstructured[pdf]) (2.6)\n",
            "Requirement already satisfied: marshmallow<4.0.0,>=3.18.0 in /usr/local/lib/python3.10/dist-packages (from dataclasses-json->unstructured[pdf]) (3.22.0)\n",
            "Requirement already satisfied: typing-inspect<1,>=0.4.0 in /usr/local/lib/python3.10/dist-packages (from dataclasses-json->unstructured[pdf]) (0.9.0)\n",
            "Requirement already satisfied: torchvision in /usr/local/lib/python3.10/dist-packages (from effdet->unstructured[pdf]) (0.19.1+cu121)\n",
            "Requirement already satisfied: pycocotools>=2.0.2 in /usr/local/lib/python3.10/dist-packages (from effdet->unstructured[pdf]) (2.0.8)\n",
            "Requirement already satisfied: omegaconf>=2.0 in /usr/local/lib/python3.10/dist-packages (from effdet->unstructured[pdf]) (2.3.0)\n",
            "Requirement already satisfied: google-api-core!=2.0.*,!=2.1.*,!=2.10.*,!=2.2.*,!=2.3.*,!=2.4.*,!=2.5.*,!=2.6.*,!=2.7.*,!=2.8.*,!=2.9.*,<3.0.0dev,>=1.34.1 in /usr/local/lib/python3.10/dist-packages (from google-api-core[grpc]!=2.0.*,!=2.1.*,!=2.10.*,!=2.2.*,!=2.3.*,!=2.4.*,!=2.5.*,!=2.6.*,!=2.7.*,!=2.8.*,!=2.9.*,<3.0.0dev,>=1.34.1->google-cloud-vision->unstructured[pdf]) (2.19.2)\n",
            "Requirement already satisfied: google-auth!=2.24.0,!=2.25.0,<3.0.0dev,>=2.14.1 in /usr/local/lib/python3.10/dist-packages (from google-cloud-vision->unstructured[pdf]) (2.27.0)\n",
            "Requirement already satisfied: proto-plus<2.0.0dev,>=1.22.3 in /usr/local/lib/python3.10/dist-packages (from google-cloud-vision->unstructured[pdf]) (1.24.0)\n",
            "Requirement already satisfied: protobuf!=4.21.0,!=4.21.1,!=4.21.2,!=4.21.3,!=4.21.4,!=4.21.5,<6.0.0dev,>=3.20.2 in /usr/local/lib/python3.10/dist-packages (from google-cloud-vision->unstructured[pdf]) (3.20.3)\n",
            "Requirement already satisfied: six in /usr/local/lib/python3.10/dist-packages (from langdetect->unstructured[pdf]) (1.16.0)\n",
            "Requirement already satisfied: charset-normalizer>=2.0.0 in /usr/local/lib/python3.10/dist-packages (from pdfminer.six->unstructured[pdf]) (3.4.0)\n",
            "Requirement already satisfied: cryptography>=36.0.0 in /usr/local/lib/python3.10/dist-packages (from pdfminer.six->unstructured[pdf]) (43.0.1)\n",
            "Requirement already satisfied: Deprecated in /usr/local/lib/python3.10/dist-packages (from pikepdf->unstructured[pdf]) (1.2.14)\n",
            "Requirement already satisfied: olefile in /usr/local/lib/python3.10/dist-packages (from python-oxmsg->unstructured[pdf]) (0.47)\n",
            "Requirement already satisfied: idna<4,>=2.5 in /usr/local/lib/python3.10/dist-packages (from requests->unstructured[pdf]) (3.10)\n",
            "Requirement already satisfied: urllib3<3,>=1.21.1 in /usr/local/lib/python3.10/dist-packages (from requests->unstructured[pdf]) (2.2.3)\n",
            "Requirement already satisfied: certifi>=2017.4.17 in /usr/local/lib/python3.10/dist-packages (from requests->unstructured[pdf]) (2024.8.30)\n",
            "Requirement already satisfied: eval-type-backport<0.3.0,>=0.2.0 in /usr/local/lib/python3.10/dist-packages (from unstructured-client->unstructured[pdf]) (0.2.0)\n",
            "Requirement already satisfied: httpx>=0.27.0 in /usr/local/lib/python3.10/dist-packages (from unstructured-client->unstructured[pdf]) (0.27.2)\n",
            "Requirement already satisfied: jsonpath-python<2.0.0,>=1.0.6 in /usr/local/lib/python3.10/dist-packages (from unstructured-client->unstructured[pdf]) (1.0.6)\n",
            "Requirement already satisfied: nest-asyncio>=1.6.0 in /usr/local/lib/python3.10/dist-packages (from unstructured-client->unstructured[pdf]) (1.6.0)\n",
            "Requirement already satisfied: pydantic<2.10.0,>=2.9.0 in /usr/local/lib/python3.10/dist-packages (from unstructured-client->unstructured[pdf]) (2.9.2)\n",
            "Requirement already satisfied: python-dateutil==2.8.2 in /usr/local/lib/python3.10/dist-packages (from unstructured-client->unstructured[pdf]) (2.8.2)\n",
            "Requirement already satisfied: requests-toolbelt>=1.0.0 in /usr/local/lib/python3.10/dist-packages (from unstructured-client->unstructured[pdf]) (1.0.0)\n",
            "Requirement already satisfied: cffi>=1.12 in /usr/local/lib/python3.10/dist-packages (from cryptography>=36.0.0->pdfminer.six->unstructured[pdf]) (1.17.1)\n",
            "Requirement already satisfied: googleapis-common-protos<2.0.dev0,>=1.56.2 in /usr/local/lib/python3.10/dist-packages (from google-api-core!=2.0.*,!=2.1.*,!=2.10.*,!=2.2.*,!=2.3.*,!=2.4.*,!=2.5.*,!=2.6.*,!=2.7.*,!=2.8.*,!=2.9.*,<3.0.0dev,>=1.34.1->google-api-core[grpc]!=2.0.*,!=2.1.*,!=2.10.*,!=2.2.*,!=2.3.*,!=2.4.*,!=2.5.*,!=2.6.*,!=2.7.*,!=2.8.*,!=2.9.*,<3.0.0dev,>=1.34.1->google-cloud-vision->unstructured[pdf]) (1.65.0)\n",
            "Requirement already satisfied: grpcio<2.0dev,>=1.33.2 in /usr/local/lib/python3.10/dist-packages (from google-api-core[grpc]!=2.0.*,!=2.1.*,!=2.10.*,!=2.2.*,!=2.3.*,!=2.4.*,!=2.5.*,!=2.6.*,!=2.7.*,!=2.8.*,!=2.9.*,<3.0.0dev,>=1.34.1->google-cloud-vision->unstructured[pdf]) (1.64.1)\n",
            "Requirement already satisfied: grpcio-status<2.0.dev0,>=1.33.2 in /usr/local/lib/python3.10/dist-packages (from google-api-core[grpc]!=2.0.*,!=2.1.*,!=2.10.*,!=2.2.*,!=2.3.*,!=2.4.*,!=2.5.*,!=2.6.*,!=2.7.*,!=2.8.*,!=2.9.*,<3.0.0dev,>=1.34.1->google-cloud-vision->unstructured[pdf]) (1.48.2)\n",
            "Requirement already satisfied: cachetools<6.0,>=2.0.0 in /usr/local/lib/python3.10/dist-packages (from google-auth!=2.24.0,!=2.25.0,<3.0.0dev,>=2.14.1->google-cloud-vision->unstructured[pdf]) (5.5.0)\n",
            "Requirement already satisfied: pyasn1-modules>=0.2.1 in /usr/local/lib/python3.10/dist-packages (from google-auth!=2.24.0,!=2.25.0,<3.0.0dev,>=2.14.1->google-cloud-vision->unstructured[pdf]) (0.4.1)\n",
            "Requirement already satisfied: rsa<5,>=3.1.4 in /usr/local/lib/python3.10/dist-packages (from google-auth!=2.24.0,!=2.25.0,<3.0.0dev,>=2.14.1->google-cloud-vision->unstructured[pdf]) (4.9)\n",
            "Requirement already satisfied: anyio in /usr/local/lib/python3.10/dist-packages (from httpx>=0.27.0->unstructured-client->unstructured[pdf]) (3.7.1)\n",
            "Requirement already satisfied: httpcore==1.* in /usr/local/lib/python3.10/dist-packages (from httpx>=0.27.0->unstructured-client->unstructured[pdf]) (1.0.6)\n",
            "Requirement already satisfied: sniffio in /usr/local/lib/python3.10/dist-packages (from httpx>=0.27.0->unstructured-client->unstructured[pdf]) (1.3.1)\n",
            "Requirement already satisfied: h11<0.15,>=0.13 in /usr/local/lib/python3.10/dist-packages (from httpcore==1.*->httpx>=0.27.0->unstructured-client->unstructured[pdf]) (0.14.0)\n",
            "Requirement already satisfied: antlr4-python3-runtime==4.9.* in /usr/local/lib/python3.10/dist-packages (from omegaconf>=2.0->effdet->unstructured[pdf]) (4.9.3)\n",
            "Requirement already satisfied: PyYAML>=5.1.0 in /usr/local/lib/python3.10/dist-packages (from omegaconf>=2.0->effdet->unstructured[pdf]) (6.0.2)\n",
            "Requirement already satisfied: coloredlogs in /usr/local/lib/python3.10/dist-packages (from onnxruntime>=1.17.0->unstructured-inference==0.7.36->unstructured[pdf]) (15.0.1)\n",
            "Requirement already satisfied: flatbuffers in /usr/local/lib/python3.10/dist-packages (from onnxruntime>=1.17.0->unstructured-inference==0.7.36->unstructured[pdf]) (24.3.25)\n",
            "Requirement already satisfied: sympy in /usr/local/lib/python3.10/dist-packages (from onnxruntime>=1.17.0->unstructured-inference==0.7.36->unstructured[pdf]) (1.13.3)\n",
            "Requirement already satisfied: contourpy>=1.0.1 in /usr/local/lib/python3.10/dist-packages (from matplotlib->unstructured-inference==0.7.36->unstructured[pdf]) (1.3.0)\n",
            "Requirement already satisfied: cycler>=0.10 in /usr/local/lib/python3.10/dist-packages (from matplotlib->unstructured-inference==0.7.36->unstructured[pdf]) (0.12.1)\n",
            "Requirement already satisfied: fonttools>=4.22.0 in /usr/local/lib/python3.10/dist-packages (from matplotlib->unstructured-inference==0.7.36->unstructured[pdf]) (4.54.1)\n",
            "Requirement already satisfied: kiwisolver>=1.0.1 in /usr/local/lib/python3.10/dist-packages (from matplotlib->unstructured-inference==0.7.36->unstructured[pdf]) (1.4.7)\n",
            "Requirement already satisfied: pyparsing>=2.3.1 in /usr/local/lib/python3.10/dist-packages (from matplotlib->unstructured-inference==0.7.36->unstructured[pdf]) (3.1.4)\n",
            "Requirement already satisfied: annotated-types>=0.6.0 in /usr/local/lib/python3.10/dist-packages (from pydantic<2.10.0,>=2.9.0->unstructured-client->unstructured[pdf]) (0.7.0)\n",
            "Requirement already satisfied: pydantic-core==2.23.4 in /usr/local/lib/python3.10/dist-packages (from pydantic<2.10.0,>=2.9.0->unstructured-client->unstructured[pdf]) (2.23.4)\n",
            "Requirement already satisfied: safetensors in /usr/local/lib/python3.10/dist-packages (from timm->unstructured-inference==0.7.36->unstructured[pdf]) (0.4.5)\n",
            "Requirement already satisfied: filelock in /usr/local/lib/python3.10/dist-packages (from torch->unstructured-inference==0.7.36->unstructured[pdf]) (3.16.1)\n",
            "Requirement already satisfied: networkx in /usr/local/lib/python3.10/dist-packages (from torch->unstructured-inference==0.7.36->unstructured[pdf]) (3.4)\n",
            "Requirement already satisfied: jinja2 in /usr/local/lib/python3.10/dist-packages (from torch->unstructured-inference==0.7.36->unstructured[pdf]) (3.1.4)\n",
            "Requirement already satisfied: fsspec in /usr/local/lib/python3.10/dist-packages (from torch->unstructured-inference==0.7.36->unstructured[pdf]) (2024.6.1)\n",
            "Requirement already satisfied: tokenizers<0.20,>=0.19 in /usr/local/lib/python3.10/dist-packages (from transformers>=4.25.1->unstructured-inference==0.7.36->unstructured[pdf]) (0.19.1)\n",
            "Requirement already satisfied: mypy-extensions>=0.3.0 in /usr/local/lib/python3.10/dist-packages (from typing-inspect<1,>=0.4.0->dataclasses-json->unstructured[pdf]) (1.0.0)\n",
            "Requirement already satisfied: scipy in /usr/local/lib/python3.10/dist-packages (from layoutparser->unstructured-inference==0.7.36->unstructured[pdf]) (1.13.1)\n",
            "Requirement already satisfied: pandas in /usr/local/lib/python3.10/dist-packages (from layoutparser->unstructured-inference==0.7.36->unstructured[pdf]) (2.2.2)\n",
            "Requirement already satisfied: iopath in /usr/local/lib/python3.10/dist-packages (from layoutparser->unstructured-inference==0.7.36->unstructured[pdf]) (0.1.10)\n",
            "Requirement already satisfied: pdfplumber in /usr/local/lib/python3.10/dist-packages (from layoutparser->unstructured-inference==0.7.36->unstructured[pdf]) (0.11.4)\n",
            "Requirement already satisfied: pycparser in /usr/local/lib/python3.10/dist-packages (from cffi>=1.12->cryptography>=36.0.0->pdfminer.six->unstructured[pdf]) (2.22)\n",
            "Requirement already satisfied: pyasn1<0.7.0,>=0.4.6 in /usr/local/lib/python3.10/dist-packages (from pyasn1-modules>=0.2.1->google-auth!=2.24.0,!=2.25.0,<3.0.0dev,>=2.14.1->google-cloud-vision->unstructured[pdf]) (0.6.1)\n",
            "Requirement already satisfied: exceptiongroup in /usr/local/lib/python3.10/dist-packages (from anyio->httpx>=0.27.0->unstructured-client->unstructured[pdf]) (1.2.2)\n",
            "Requirement already satisfied: humanfriendly>=9.1 in /usr/local/lib/python3.10/dist-packages (from coloredlogs->onnxruntime>=1.17.0->unstructured-inference==0.7.36->unstructured[pdf]) (10.0)\n",
            "Requirement already satisfied: portalocker in /usr/local/lib/python3.10/dist-packages (from iopath->layoutparser->unstructured-inference==0.7.36->unstructured[pdf]) (2.10.1)\n",
            "Requirement already satisfied: MarkupSafe>=2.0 in /usr/local/lib/python3.10/dist-packages (from jinja2->torch->unstructured-inference==0.7.36->unstructured[pdf]) (3.0.1)\n",
            "Requirement already satisfied: pytz>=2020.1 in /usr/local/lib/python3.10/dist-packages (from pandas->layoutparser->unstructured-inference==0.7.36->unstructured[pdf]) (2024.2)\n",
            "Requirement already satisfied: tzdata>=2022.7 in /usr/local/lib/python3.10/dist-packages (from pandas->layoutparser->unstructured-inference==0.7.36->unstructured[pdf]) (2024.2)\n",
            "Requirement already satisfied: pypdfium2>=4.18.0 in /usr/local/lib/python3.10/dist-packages (from pdfplumber->layoutparser->unstructured-inference==0.7.36->unstructured[pdf]) (4.30.0)\n",
            "Requirement already satisfied: mpmath<1.4,>=1.1.0 in /usr/local/lib/python3.10/dist-packages (from sympy->onnxruntime>=1.17.0->unstructured-inference==0.7.36->unstructured[pdf]) (1.3.0)\n"
          ]
        }
      ]
    },
    {
      "cell_type": "code",
      "source": [
        "import nltk\n",
        "nltk.download('punkt')"
      ],
      "metadata": {
        "colab": {
          "base_uri": "https://localhost:8080/"
        },
        "id": "IGp-qCDsbxBg",
        "outputId": "04cf234f-b9ff-4637-a06e-52a9f2e349e7"
      },
      "execution_count": null,
      "outputs": [
        {
          "output_type": "stream",
          "name": "stderr",
          "text": [
            "[nltk_data] Downloading package punkt to /root/nltk_data...\n",
            "[nltk_data]   Unzipping tokenizers/punkt.zip.\n"
          ]
        },
        {
          "output_type": "execute_result",
          "data": {
            "text/plain": [
              "True"
            ]
          },
          "metadata": {},
          "execution_count": 2
        }
      ]
    },
    {
      "cell_type": "code",
      "source": [
        "import os\n",
        "import uuid\n",
        "import base64\n",
        "from IPython import display\n",
        "from unstructured.partition.pdf import partition_pdf\n",
        "from langchain.chat_models import ChatOpenAI\n",
        "from langchain.embeddings import OpenAIEmbeddings\n",
        "from langchain.chains import LLMChain\n",
        "from langchain.prompts import PromptTemplate\n",
        "from langchain.schema.messages import HumanMessage, SystemMessage\n",
        "from langchain.schema.document import Document\n",
        "from langchain.vectorstores import FAISS\n",
        "from langchain.retrievers.multi_vector import MultiVectorRetriever"
      ],
      "metadata": {
        "id": "pr6kBvG9LY5E"
      },
      "execution_count": null,
      "outputs": []
    },
    {
      "cell_type": "code",
      "source": [
        "from google.colab import userdata\n",
        "\n"
      ],
      "metadata": {
        "id": "eKbiVZOdWI6c"
      },
      "execution_count": null,
      "outputs": []
    },
    {
      "cell_type": "code",
      "source": [
        "#output_path =\"./images\""
      ],
      "metadata": {
        "id": "Wxd58l8SZCQN"
      },
      "execution_count": null,
      "outputs": []
    },
    {
      "cell_type": "code",
      "source": [
        "openai_api_key = userdata.get('open_ai')\n",
        "\n",
        "# Filepaths for both PDFs\n",
        "pdf_1_path = \"/content/psoriasis doc.pdf\"\n",
        "pdf_2_path = \"/content/Healthcare-Professionals-Guide-June-2018.pdf\"\n",
        "\n",
        "# Output directory for images\n",
        "output_path = \"/content/extracted_images\"\n",
        "\n",
        "# Partition PDF 1 (text and images)\n",
        "raw_pdf_elements_pdf_1 = partition_pdf(\n",
        "    filename=pdf_1_path,\n",
        "    extract_images_in_pdf=True,               # Extract images\n",
        "    infer_table_structure=True,               # Infer table structures\n",
        "    chunking_strategy=\"by_title\",\n",
        "    max_characters=4000,\n",
        "    new_after_n_chars=3800,\n",
        "    combine_text_under_n_chars=2000,\n",
        "    extract_image_block_output_dir=output_path  # Output directory for images\n",
        ")\n",
        "\n",
        "# Partition PDF 2 (only text)\n",
        "raw_pdf_elements_pdf_2 = partition_pdf(\n",
        "    filename=pdf_2_path,\n",
        "    extract_images_in_pdf=False,              # Skip image extraction\n",
        "    infer_table_structure=True,               # Optionally infer table structures\n",
        "    chunking_strategy=\"by_title\",\n",
        "    max_characters=4000,\n",
        "    new_after_n_chars=3800,\n",
        "    combine_text_under_n_chars=2000\n",
        ")\n",
        "\n",
        "# Process the extracted elements as needed for both PDFs\n",
        "# For example, you can now extract the text or other elements from the PDFs and handle them accordingly.\n"
      ],
      "metadata": {
        "colab": {
          "base_uri": "https://localhost:8080/",
          "height": 188,
          "referenced_widgets": [
            "8c56f556d230469f80ea4c9827ab71ec",
            "ee379497154346c796beafdbe416a87e",
            "1d5d6fb2a834443185b41abb0dd1ab3d",
            "b45ef32423ed439283dae2d535f90d4a",
            "b2264913a0e9497dba917a4b6e41e020",
            "b853110eef054d61ad7198b8835e70bf",
            "9984091078004eee8ffeff4ac137f92c",
            "b5aa55b6aef34d548290198f65a878b0",
            "724804db66594ac383eedd5d6aed64f9",
            "482d6449c9c04e4cadf52cf95f48e2bc",
            "eaa836d08d5e43bab8551b915572bc26",
            "73d499284f9449e4ba7a8cd076a8de6d",
            "9fb0f69d012a43559389b4d88e702fc3",
            "29ee0a91a5d14d8b86579326087a7af9",
            "eb28e39451ba47d39283fa06d1807d7c",
            "4c81e26f063b40238e077f8aec8f7ebe",
            "873bdcbbbadf45ae996f95eb1381bec2",
            "1b1300dee7c8434a976f080cd36ce552",
            "53f4460425924230b9e2bd61544aff31",
            "e5d4d40e532646df9b592d0e5c77ca99",
            "be1e94fe56c2484aa9cbc1ace5faaa9e",
            "170a107de372448387392b8c18eba037",
            "e56548f35cb6488b8f9530c89835132a",
            "f962d6bf2d22487bb8b6aecec8d38a25",
            "8b8b97d63f9e4cf38e0308c47306e1a9",
            "ed03a8e9e8f04e3086d7a40ece95bc0a",
            "1019f5db96d64a7bbf70464e2c6d6e80",
            "9e962a2850724ebcb5e343a58006ee5e",
            "09b19480406540e49bfab881c0106ef9",
            "a4407990fb1a4a168949932899136500",
            "0152640fa7d944399aace4b4bdded7a9",
            "2d7c252df336473686eacffe1b5d91be",
            "99885810aa1a46d9b77f864a7f7d6200"
          ]
        },
        "id": "1loe7fgvWMbh",
        "outputId": "a28d34b4-2327-4058-96d7-0d79bf15d398"
      },
      "execution_count": null,
      "outputs": [
        {
          "output_type": "display_data",
          "data": {
            "text/plain": [
              "config.json:   0%|          | 0.00/1.47k [00:00<?, ?B/s]"
            ],
            "application/vnd.jupyter.widget-view+json": {
              "version_major": 2,
              "version_minor": 0,
              "model_id": "8c56f556d230469f80ea4c9827ab71ec"
            }
          },
          "metadata": {}
        },
        {
          "output_type": "display_data",
          "data": {
            "text/plain": [
              "model.safetensors:   0%|          | 0.00/115M [00:00<?, ?B/s]"
            ],
            "application/vnd.jupyter.widget-view+json": {
              "version_major": 2,
              "version_minor": 0,
              "model_id": "73d499284f9449e4ba7a8cd076a8de6d"
            }
          },
          "metadata": {}
        },
        {
          "output_type": "display_data",
          "data": {
            "text/plain": [
              "model.safetensors:   0%|          | 0.00/46.8M [00:00<?, ?B/s]"
            ],
            "application/vnd.jupyter.widget-view+json": {
              "version_major": 2,
              "version_minor": 0,
              "model_id": "e56548f35cb6488b8f9530c89835132a"
            }
          },
          "metadata": {}
        },
        {
          "output_type": "stream",
          "name": "stderr",
          "text": [
            "Some weights of the model checkpoint at microsoft/table-transformer-structure-recognition were not used when initializing TableTransformerForObjectDetection: ['model.backbone.conv_encoder.model.layer2.0.downsample.1.num_batches_tracked', 'model.backbone.conv_encoder.model.layer3.0.downsample.1.num_batches_tracked', 'model.backbone.conv_encoder.model.layer4.0.downsample.1.num_batches_tracked']\n",
            "- This IS expected if you are initializing TableTransformerForObjectDetection from the checkpoint of a model trained on another task or with another architecture (e.g. initializing a BertForSequenceClassification model from a BertForPreTraining model).\n",
            "- This IS NOT expected if you are initializing TableTransformerForObjectDetection from the checkpoint of a model that you expect to be exactly identical (initializing a BertForSequenceClassification model from a BertForSequenceClassification model).\n"
          ]
        }
      ]
    },
    {
      "cell_type": "code",
      "source": [
        "# Combine elements from both PDFs\n",
        "raw_pdf_elements = raw_pdf_elements_pdf_1 + raw_pdf_elements_pdf_2\n",
        "\n",
        "# Initialize lists to hold text and table elements\n",
        "text_elements = []\n",
        "table_elements = []\n",
        "\n",
        "# Initialize lists for summaries\n",
        "text_summaries = []\n",
        "table_summaries = []\n",
        "\n",
        "# Define a summary prompt\n",
        "summary_prompt = \"\"\"\n",
        "Summarize the following {element_type}:\n",
        "{element}\n",
        "\"\"\"\n"
      ],
      "metadata": {
        "id": "N4PT-TizYmju"
      },
      "execution_count": null,
      "outputs": []
    },
    {
      "cell_type": "code",
      "source": [
        "# Importing LangChain components\n",
        "from langchain.chains import LLMChain\n",
        "from langchain.chat_models import ChatOpenAI\n",
        "from langchain.prompts import PromptTemplate\n",
        "\n",
        "# Create a summary chain using LangChain\n",
        "summary_chain = LLMChain(\n",
        "    llm=ChatOpenAI(model=\"gpt-3.5-turbo\", openai_api_key=openai_api_key, max_tokens=1024),\n",
        "    prompt=PromptTemplate.from_template(summary_prompt)  # Fixed missing parenthesis\n",
        ")"
      ],
      "metadata": {
        "id": "jbaqIdD-dUZV",
        "colab": {
          "base_uri": "https://localhost:8080/"
        },
        "outputId": "366a98e3-5983-435f-da08-ded89eb614ab"
      },
      "execution_count": null,
      "outputs": [
        {
          "output_type": "stream",
          "name": "stderr",
          "text": [
            "<ipython-input-9-a9ed280e974b>:8: LangChainDeprecationWarning: The class `ChatOpenAI` was deprecated in LangChain 0.0.10 and will be removed in 1.0. An updated version of the class exists in the :class:`~langchain-openai package and should be used instead. To use it run `pip install -U :class:`~langchain-openai` and import as `from :class:`~langchain_openai import ChatOpenAI``.\n",
            "  llm=ChatOpenAI(model=\"gpt-3.5-turbo\", openai_api_key=openai_api_key, max_tokens=1024),\n",
            "<ipython-input-9-a9ed280e974b>:7: LangChainDeprecationWarning: The class `LLMChain` was deprecated in LangChain 0.1.17 and will be removed in 1.0. Use :meth:`~RunnableSequence, e.g., `prompt | llm`` instead.\n",
            "  summary_chain = LLMChain(\n"
          ]
        }
      ]
    },
    {
      "cell_type": "code",
      "source": [
        "for e in raw_pdf_elements:\n",
        "    if 'CompositeElement' in repr(e):  # Check if it's a CompositeElement (text)\n",
        "        text_elements.append(e.text)\n",
        "        summary = summary_chain.run({'element_type': 'text', 'element': e.text})  # Pass e.text for summarization\n",
        "        text_summaries.append(summary)\n",
        "    elif 'Table' in repr(e):  # Check if it's a Table element\n",
        "        table_elements.append(e.text)\n",
        "        summary = summary_chain.run({'element_type': 'table', 'element': e.text})  # Pass e.text for summarization\n",
        "        table_summaries.append(summary)\n",
        "\n",
        "# Now you have text_summaries and table_summaries for both PDFs"
      ],
      "metadata": {
        "colab": {
          "base_uri": "https://localhost:8080/"
        },
        "id": "OByi3GBmdWyw",
        "outputId": "42de9f2c-c61d-46aa-a4e0-665b9874c9d3"
      },
      "execution_count": null,
      "outputs": [
        {
          "output_type": "stream",
          "name": "stderr",
          "text": [
            "<ipython-input-10-64a231cfecc7>:4: LangChainDeprecationWarning: The method `Chain.run` was deprecated in langchain 0.1.0 and will be removed in 1.0. Use :meth:`~invoke` instead.\n",
            "  summary = summary_chain.run({'element_type': 'text', 'element': e.text})  # Pass e.text for summarization\n"
          ]
        }
      ]
    },
    {
      "cell_type": "code",
      "source": [
        "# Get image summaries\n",
        "image_elements = []\n",
        "image_summaries = []\n",
        "\n",
        "def encode_image(image_path):\n",
        "    with open(image_path, \"rb\") as f:\n",
        "        return base64.b64encode(f.read()).decode('utf-8')\n",
        "\n",
        "def summarize_image(encoded_image):\n",
        "    prompt = [\n",
        "        SystemMessage(content=\"You are a bot that is good at analyzing images.\"),\n",
        "        HumanMessage(content=[\n",
        "            {\n",
        "                \"type\": \"text\",\n",
        "                \"text\": \"Describe the contents of this image.\"\n",
        "            },\n",
        "            {\n",
        "                \"type\": \"image_url\",\n",
        "                \"image_url\": {\n",
        "                    \"url\": f\"data:image/jpeg;base64,{encoded_image}\"\n",
        "                },\n",
        "            },\n",
        "        ])\n",
        "    ]\n",
        "    response = ChatOpenAI(model=\"gpt-4o\", openai_api_key=openai_api_key, max_tokens=1024).invoke(prompt)\n",
        "    return response.content\n",
        "\n",
        "for i in os.listdir(output_path):\n",
        "    if i.endswith(('.png', '.jpg', '.jpeg')):\n",
        "        image_path = os.path.join(output_path, i)\n",
        "        encoded_image = encode_image(image_path)\n",
        "        image_elements.append(encoded_image)\n",
        "        summary = summarize_image(encoded_image)\n",
        "        image_summaries.append(summary)"
      ],
      "metadata": {
        "id": "Cq9Nx2TU3duU"
      },
      "execution_count": null,
      "outputs": []
    },
    {
      "cell_type": "code",
      "source": [
        "!pip install faiss-cpu\n",
        "!pip install tiktoken"
      ],
      "metadata": {
        "colab": {
          "base_uri": "https://localhost:8080/"
        },
        "id": "zHMFL01THv8u",
        "outputId": "b90d9513-16ae-43f7-a6da-2c8387bade06"
      },
      "execution_count": null,
      "outputs": [
        {
          "output_type": "stream",
          "name": "stdout",
          "text": [
            "Requirement already satisfied: faiss-cpu in /usr/local/lib/python3.10/dist-packages (1.9.0)\n",
            "Requirement already satisfied: numpy<3.0,>=1.25.0 in /usr/local/lib/python3.10/dist-packages (from faiss-cpu) (1.26.4)\n",
            "Requirement already satisfied: packaging in /usr/local/lib/python3.10/dist-packages (from faiss-cpu) (24.1)\n",
            "Collecting tiktoken\n",
            "  Downloading tiktoken-0.8.0-cp310-cp310-manylinux_2_17_x86_64.manylinux2014_x86_64.whl.metadata (6.6 kB)\n",
            "Requirement already satisfied: regex>=2022.1.18 in /usr/local/lib/python3.10/dist-packages (from tiktoken) (2024.9.11)\n",
            "Requirement already satisfied: requests>=2.26.0 in /usr/local/lib/python3.10/dist-packages (from tiktoken) (2.32.3)\n",
            "Requirement already satisfied: charset-normalizer<4,>=2 in /usr/local/lib/python3.10/dist-packages (from requests>=2.26.0->tiktoken) (3.4.0)\n",
            "Requirement already satisfied: idna<4,>=2.5 in /usr/local/lib/python3.10/dist-packages (from requests>=2.26.0->tiktoken) (3.10)\n",
            "Requirement already satisfied: urllib3<3,>=1.21.1 in /usr/local/lib/python3.10/dist-packages (from requests>=2.26.0->tiktoken) (2.2.3)\n",
            "Requirement already satisfied: certifi>=2017.4.17 in /usr/local/lib/python3.10/dist-packages (from requests>=2.26.0->tiktoken) (2024.8.30)\n",
            "Downloading tiktoken-0.8.0-cp310-cp310-manylinux_2_17_x86_64.manylinux2014_x86_64.whl (1.2 MB)\n",
            "\u001b[2K   \u001b[90m━━━━━━━━━━━━━━━━━━━━━━━━━━━━━━━━━━━━━━━━\u001b[0m \u001b[32m1.2/1.2 MB\u001b[0m \u001b[31m39.7 MB/s\u001b[0m eta \u001b[36m0:00:00\u001b[0m\n",
            "\u001b[?25hInstalling collected packages: tiktoken\n",
            "Successfully installed tiktoken-0.8.0\n"
          ]
        }
      ]
    },
    {
      "cell_type": "code",
      "source": [
        "# Create Documents and Vectorstore\n",
        "documents = []\n",
        "retrieve_contents = []\n",
        "\n",
        "for e, s in zip(text_elements, text_summaries):\n",
        "    i = str(uuid.uuid4())\n",
        "    doc = Document(\n",
        "        page_content = s,\n",
        "        metadata = {\n",
        "            'id': i,\n",
        "            'type': 'text',\n",
        "            'original_content': e\n",
        "        }\n",
        "    )\n",
        "    retrieve_contents.append((i, e))\n",
        "    documents.append(doc)\n",
        "\n",
        "for e, s in zip(table_elements, table_summaries):\n",
        "    doc = Document(\n",
        "        page_content = s,\n",
        "        metadata = {\n",
        "            'id': i,\n",
        "            'type': 'table',\n",
        "            'original_content': e\n",
        "        }\n",
        "    )\n",
        "    retrieve_contents.append((i, e))\n",
        "    documents.append(doc)\n",
        "\n",
        "for e, s in zip(image_elements, image_summaries):\n",
        "    doc = Document(\n",
        "        page_content = s,\n",
        "        metadata = {\n",
        "            'id': i,\n",
        "            'type': 'image',\n",
        "            'original_content': e\n",
        "        }\n",
        "    )\n",
        "    retrieve_contents.append((i, s))\n",
        "    documents.append(doc)\n",
        "\n",
        "vectorstore = FAISS.from_documents(documents=documents, embedding=OpenAIEmbeddings(openai_api_key=openai_api_key))"
      ],
      "metadata": {
        "id": "zjZa7CNPAGOE",
        "colab": {
          "base_uri": "https://localhost:8080/"
        },
        "outputId": "cfd07641-f1b5-40c2-b452-e5cc443aad74"
      },
      "execution_count": null,
      "outputs": [
        {
          "output_type": "stream",
          "name": "stderr",
          "text": [
            "<ipython-input-13-6e6320996726>:42: LangChainDeprecationWarning: The class `OpenAIEmbeddings` was deprecated in LangChain 0.0.9 and will be removed in 1.0. An updated version of the class exists in the :class:`~langchain-openai package and should be used instead. To use it run `pip install -U :class:`~langchain-openai` and import as `from :class:`~langchain_openai import OpenAIEmbeddings``.\n",
            "  vectorstore = FAISS.from_documents(documents=documents, embedding=OpenAIEmbeddings(openai_api_key=openai_api_key))\n"
          ]
        }
      ]
    },
    {
      "cell_type": "code",
      "source": [
        "embeddings = OpenAIEmbeddings(openai_api_key = openai_api_key)\n"
      ],
      "metadata": {
        "id": "cqGfJ5_KJJrG"
      },
      "execution_count": null,
      "outputs": []
    },
    {
      "cell_type": "code",
      "source": [
        "vectorstore.save_local(\"faiss_index\")"
      ],
      "metadata": {
        "id": "kUibRna8JetS"
      },
      "execution_count": null,
      "outputs": []
    },
    {
      "cell_type": "code",
      "source": [
        "prompt_template = \"\"\"\n",
        "You are an expert in skin diseases, especially eczema and related conditions.\n",
        "Answer the question based only on the following context, which can include text, images and tables:\n",
        "{context}\n",
        "Question: {question}\n",
        "If you are unsure or do not have enough information, decline to answer by saying \"Sorry, I don't have enough information about it.\"\n",
        "Please provide a detailed and helpful response if possible.\n",
        "Answer:\n",
        "\"\"\"\n"
      ],
      "metadata": {
        "id": "5VHAZ3D6J7pn"
      },
      "execution_count": null,
      "outputs": []
    },
    {
      "cell_type": "code",
      "source": [
        "qa_chain = LLMChain(llm=ChatOpenAI(model=\"gpt-4o\", openai_api_key = openai_api_key, max_tokens=1024),\n",
        "                        prompt=PromptTemplate.from_template(prompt_template))"
      ],
      "metadata": {
        "id": "35IjAGAgLFnf"
      },
      "execution_count": null,
      "outputs": []
    },
    {
      "cell_type": "code",
      "source": [
        "def answer(question):\n",
        "    relevant_docs = vectorstore.similarity_search(question)\n",
        "    context = \"\"\n",
        "    relevant_images = []\n",
        "    for d in relevant_docs:\n",
        "        if d.metadata['type'] == 'text':\n",
        "            context += '[text]' + d.metadata['original_content']\n",
        "        elif d.metadata['type'] == 'table':\n",
        "            context += '[table]' + d.metadata['original_content']\n",
        "        elif d.metadata['type'] == 'image':\n",
        "            context += '[image]' + d.page_content\n",
        "            relevant_images.append(d.metadata['original_content'])\n",
        "    result = qa_chain.run({'context': context, 'question': question})\n",
        "    return result, relevant_images"
      ],
      "metadata": {
        "id": "4xdBczHGLxxb"
      },
      "execution_count": null,
      "outputs": []
    },
    {
      "cell_type": "code",
      "source": [
        "result, relevant_images = answer(\"what is psoriasis skin disease?\")\n",
        "result"
      ],
      "metadata": {
        "colab": {
          "base_uri": "https://localhost:8080/",
          "height": 218
        },
        "id": "96_UjhZqMAQe",
        "outputId": "dfb93707-f603-49d4-e6b1-ee578f9abe82"
      },
      "execution_count": null,
      "outputs": [
        {
          "output_type": "execute_result",
          "data": {
            "text/plain": [
              "\"Psoriasis is a common chronic, recurrent, immune-mediated disease that primarily affects the skin and joints. It significantly impacts the physical, emotional, and psychosocial well-being of those affected. The disease is characterized by the presence of scaling papules and plaques, which are raised lesions of varying size, often with a grey or silvery-white dry scale. These lesions are typically well-circumscribed, red, and symmetrically distributed on common areas such as the scalp, elbows, knees, lumbosacral region, and body folds.\\n\\nPsoriasis is a papulosquamous disorder, which means it involves both papules (small, raised lesions) and scales. The condition is notable for its variability in morphology, distribution, severity, and course. For instance, psoriasis can range from small tear-shaped lesions (guttate psoriasis) to more severe forms like pustular or erythrodermic psoriasis. Additionally, psoriasis can be stable with chronic plaques or rapidly progressive with widespread involvement.\\n\\nThe disease is influenced by genetic factors, with several susceptibility loci identified, including a major locus at 6p21 known as PSORS1. Environmental factors, such as infections, can also trigger or exacerbate the condition.\\n\\nPsoriasis may present at any age, but there are two primary types based on age of onset: Type I, which occurs at or before age 40 and is more common and severe, and Type II, which begins after age 40. The course of the disease is unpredictable, with some patients experiencing complete remission for extended periods.\\n\\nIn summary, psoriasis is a complex skin condition with diverse clinical presentations and a significant genetic component, impacting patients' quality of life across physical, emotional, and social dimensions.\""
            ],
            "application/vnd.google.colaboratory.intrinsic+json": {
              "type": "string"
            }
          },
          "metadata": {},
          "execution_count": 19
        }
      ]
    },
    {
      "cell_type": "code",
      "source": [
        "relevant_images"
      ],
      "metadata": {
        "colab": {
          "base_uri": "https://localhost:8080/"
        },
        "id": "uL5pHoNeNsYK",
        "outputId": "42ff1bb1-871d-47f3-ca73-8e983ebbd864"
      },
      "execution_count": null,
      "outputs": [
        {
          "output_type": "execute_result",
          "data": {
            "text/plain": [
              "['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']"
            ]
          },
          "metadata": {},
          "execution_count": 20
        }
      ]
    },
    {
      "cell_type": "code",
      "source": [
        "for e in relevant_images:\n",
        "    display.display(display.Image(base64.b64decode(e)))"
      ],
      "metadata": {
        "colab": {
          "base_uri": "https://localhost:8080/",
          "height": 495
        },
        "id": "Te7RKLpyTQCo",
        "outputId": "b23b6fb3-3019-4f4c-8274-2abfbb5cdf8b"
      },
      "execution_count": null,
      "outputs": [
        {
          "output_type": "display_data",
          "data": {
            "image/jpeg": "[encoded data removed]",
            "text/plain": [
              "<IPython.core.display.Image object>"
            ]
          },
          "metadata": {}
        }
      ]
    },
    {
      "cell_type": "code",
      "source": [],
      "metadata": {
        "id": "rcutrQMmfRR7"
      },
      "execution_count": null,
      "outputs": []
    }
  ]
}